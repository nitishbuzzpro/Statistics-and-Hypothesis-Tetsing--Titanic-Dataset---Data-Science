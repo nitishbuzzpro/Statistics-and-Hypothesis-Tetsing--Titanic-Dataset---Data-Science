{
 "cells": [
  {
   "cell_type": "markdown",
   "metadata": {},
   "source": [
    "### Topic: Basic Probability, Conditional Probability, Hypothesis Testing"
   ]
  },
  {
   "cell_type": "markdown",
   "metadata": {},
   "source": [
    "source code https://github.com/nitishbuzzpro/Statistics-and-Hypothesis-Tetsing--Titanic-Dataset---Data-Science.git"
   ]
  },
  {
   "cell_type": "code",
   "execution_count": 3,
   "metadata": {},
   "outputs": [],
   "source": [
    "import pandas as pd\n",
    "import numpy as np\n",
    "import piplite\n",
    "await piplite.install('openpyxl')\n",
    "from scipy.stats import chi2_contingency\n",
    "import statsmodels.api as sm"
   ]
  },
  {
   "cell_type": "markdown",
   "metadata": {},
   "source": [
    "### Task 1"
   ]
  },
  {
   "cell_type": "raw",
   "metadata": {},
   "source": [
    "Load the Titanic dataset using Python and analyze thefollowing probabilities:\n",
    "Probability of surviving or not surviving.\n",
    "Probability of being male, and female.\n",
    "Probability of being in first class, second class or the third class. (Pclass column)"
   ]
  },
  {
   "cell_type": "code",
   "execution_count": 4,
   "metadata": {},
   "outputs": [
    {
     "data": {
      "text/html": [
       "<div>\n",
       "<style scoped>\n",
       "    .dataframe tbody tr th:only-of-type {\n",
       "        vertical-align: middle;\n",
       "    }\n",
       "\n",
       "    .dataframe tbody tr th {\n",
       "        vertical-align: top;\n",
       "    }\n",
       "\n",
       "    .dataframe thead th {\n",
       "        text-align: right;\n",
       "    }\n",
       "</style>\n",
       "<table border=\"1\" class=\"dataframe\">\n",
       "  <thead>\n",
       "    <tr style=\"text-align: right;\">\n",
       "      <th></th>\n",
       "      <th>PassengerId</th>\n",
       "      <th>Survived</th>\n",
       "      <th>Pclass</th>\n",
       "      <th>Name</th>\n",
       "      <th>Sex</th>\n",
       "      <th>Age</th>\n",
       "      <th>SibSp</th>\n",
       "      <th>Parch</th>\n",
       "      <th>Ticket</th>\n",
       "      <th>Fare</th>\n",
       "      <th>Cabin</th>\n",
       "      <th>Embarked</th>\n",
       "    </tr>\n",
       "  </thead>\n",
       "  <tbody>\n",
       "    <tr>\n",
       "      <th>0</th>\n",
       "      <td>1</td>\n",
       "      <td>0</td>\n",
       "      <td>3</td>\n",
       "      <td>Braund, Mr. Owen Harris</td>\n",
       "      <td>male</td>\n",
       "      <td>22.0</td>\n",
       "      <td>1</td>\n",
       "      <td>0</td>\n",
       "      <td>A/5 21171</td>\n",
       "      <td>7.2500</td>\n",
       "      <td>NaN</td>\n",
       "      <td>S</td>\n",
       "    </tr>\n",
       "    <tr>\n",
       "      <th>1</th>\n",
       "      <td>2</td>\n",
       "      <td>1</td>\n",
       "      <td>1</td>\n",
       "      <td>Cumings, Mrs. John Bradley (Florence Briggs Th...</td>\n",
       "      <td>female</td>\n",
       "      <td>38.0</td>\n",
       "      <td>1</td>\n",
       "      <td>0</td>\n",
       "      <td>PC 17599</td>\n",
       "      <td>71.2833</td>\n",
       "      <td>C85</td>\n",
       "      <td>C</td>\n",
       "    </tr>\n",
       "    <tr>\n",
       "      <th>2</th>\n",
       "      <td>3</td>\n",
       "      <td>1</td>\n",
       "      <td>3</td>\n",
       "      <td>Heikkinen, Miss. Laina</td>\n",
       "      <td>female</td>\n",
       "      <td>26.0</td>\n",
       "      <td>0</td>\n",
       "      <td>0</td>\n",
       "      <td>STON/O2. 3101282</td>\n",
       "      <td>7.9250</td>\n",
       "      <td>NaN</td>\n",
       "      <td>S</td>\n",
       "    </tr>\n",
       "    <tr>\n",
       "      <th>3</th>\n",
       "      <td>4</td>\n",
       "      <td>1</td>\n",
       "      <td>1</td>\n",
       "      <td>Futrelle, Mrs. Jacques Heath (Lily May Peel)</td>\n",
       "      <td>female</td>\n",
       "      <td>35.0</td>\n",
       "      <td>1</td>\n",
       "      <td>0</td>\n",
       "      <td>113803</td>\n",
       "      <td>53.1000</td>\n",
       "      <td>C123</td>\n",
       "      <td>S</td>\n",
       "    </tr>\n",
       "    <tr>\n",
       "      <th>4</th>\n",
       "      <td>5</td>\n",
       "      <td>0</td>\n",
       "      <td>3</td>\n",
       "      <td>Allen, Mr. William Henry</td>\n",
       "      <td>male</td>\n",
       "      <td>35.0</td>\n",
       "      <td>0</td>\n",
       "      <td>0</td>\n",
       "      <td>373450</td>\n",
       "      <td>8.0500</td>\n",
       "      <td>NaN</td>\n",
       "      <td>S</td>\n",
       "    </tr>\n",
       "  </tbody>\n",
       "</table>\n",
       "</div>"
      ],
      "text/plain": [
       "   PassengerId  Survived  Pclass  \\\n",
       "0            1         0       3   \n",
       "1            2         1       1   \n",
       "2            3         1       3   \n",
       "3            4         1       1   \n",
       "4            5         0       3   \n",
       "\n",
       "                                                Name     Sex   Age  SibSp  \\\n",
       "0                            Braund, Mr. Owen Harris    male  22.0      1   \n",
       "1  Cumings, Mrs. John Bradley (Florence Briggs Th...  female  38.0      1   \n",
       "2                             Heikkinen, Miss. Laina  female  26.0      0   \n",
       "3       Futrelle, Mrs. Jacques Heath (Lily May Peel)  female  35.0      1   \n",
       "4                           Allen, Mr. William Henry    male  35.0      0   \n",
       "\n",
       "   Parch            Ticket     Fare Cabin Embarked  \n",
       "0      0         A/5 21171   7.2500   NaN        S  \n",
       "1      0          PC 17599  71.2833   C85        C  \n",
       "2      0  STON/O2. 3101282   7.9250   NaN        S  \n",
       "3      0            113803  53.1000  C123        S  \n",
       "4      0            373450   8.0500   NaN        S  "
      ]
     },
     "execution_count": 4,
     "metadata": {},
     "output_type": "execute_result"
    }
   ],
   "source": [
    "#load the dataset\n",
    "df = pd.read_excel('train.xlsx')\n",
    "df.head()"
   ]
  },
  {
   "cell_type": "code",
   "execution_count": 5,
   "metadata": {},
   "outputs": [
    {
     "name": "stdout",
     "output_type": "stream",
     "text": [
      "<class 'pandas.core.frame.DataFrame'>\n",
      "RangeIndex: 891 entries, 0 to 890\n",
      "Data columns (total 12 columns):\n",
      " #   Column       Non-Null Count  Dtype  \n",
      "---  ------       --------------  -----  \n",
      " 0   PassengerId  891 non-null    int64  \n",
      " 1   Survived     891 non-null    int64  \n",
      " 2   Pclass       891 non-null    int64  \n",
      " 3   Name         891 non-null    object \n",
      " 4   Sex          891 non-null    object \n",
      " 5   Age          714 non-null    float64\n",
      " 6   SibSp        891 non-null    int64  \n",
      " 7   Parch        891 non-null    int64  \n",
      " 8   Ticket       891 non-null    object \n",
      " 9   Fare         891 non-null    float64\n",
      " 10  Cabin        204 non-null    object \n",
      " 11  Embarked     889 non-null    object \n",
      "dtypes: float64(2), int64(5), object(5)\n",
      "memory usage: 66.2+ KB\n"
     ]
    }
   ],
   "source": [
    "df.info()"
   ]
  },
  {
   "cell_type": "code",
   "execution_count": 6,
   "metadata": {},
   "outputs": [
    {
     "data": {
      "text/html": [
       "<div>\n",
       "<style scoped>\n",
       "    .dataframe tbody tr th:only-of-type {\n",
       "        vertical-align: middle;\n",
       "    }\n",
       "\n",
       "    .dataframe tbody tr th {\n",
       "        vertical-align: top;\n",
       "    }\n",
       "\n",
       "    .dataframe thead th {\n",
       "        text-align: right;\n",
       "    }\n",
       "</style>\n",
       "<table border=\"1\" class=\"dataframe\">\n",
       "  <thead>\n",
       "    <tr style=\"text-align: right;\">\n",
       "      <th></th>\n",
       "      <th>PassengerId</th>\n",
       "      <th>Survived</th>\n",
       "      <th>Pclass</th>\n",
       "      <th>Age</th>\n",
       "      <th>SibSp</th>\n",
       "      <th>Parch</th>\n",
       "      <th>Fare</th>\n",
       "    </tr>\n",
       "  </thead>\n",
       "  <tbody>\n",
       "    <tr>\n",
       "      <th>count</th>\n",
       "      <td>891.000000</td>\n",
       "      <td>891.000000</td>\n",
       "      <td>891.000000</td>\n",
       "      <td>714.000000</td>\n",
       "      <td>891.000000</td>\n",
       "      <td>891.000000</td>\n",
       "      <td>891.000000</td>\n",
       "    </tr>\n",
       "    <tr>\n",
       "      <th>mean</th>\n",
       "      <td>446.000000</td>\n",
       "      <td>0.383838</td>\n",
       "      <td>2.308642</td>\n",
       "      <td>29.699118</td>\n",
       "      <td>0.523008</td>\n",
       "      <td>0.381594</td>\n",
       "      <td>32.204208</td>\n",
       "    </tr>\n",
       "    <tr>\n",
       "      <th>std</th>\n",
       "      <td>257.353842</td>\n",
       "      <td>0.486592</td>\n",
       "      <td>0.836071</td>\n",
       "      <td>14.526497</td>\n",
       "      <td>1.102743</td>\n",
       "      <td>0.806057</td>\n",
       "      <td>49.693429</td>\n",
       "    </tr>\n",
       "    <tr>\n",
       "      <th>min</th>\n",
       "      <td>1.000000</td>\n",
       "      <td>0.000000</td>\n",
       "      <td>1.000000</td>\n",
       "      <td>0.420000</td>\n",
       "      <td>0.000000</td>\n",
       "      <td>0.000000</td>\n",
       "      <td>0.000000</td>\n",
       "    </tr>\n",
       "    <tr>\n",
       "      <th>25%</th>\n",
       "      <td>223.500000</td>\n",
       "      <td>0.000000</td>\n",
       "      <td>2.000000</td>\n",
       "      <td>20.125000</td>\n",
       "      <td>0.000000</td>\n",
       "      <td>0.000000</td>\n",
       "      <td>7.910400</td>\n",
       "    </tr>\n",
       "    <tr>\n",
       "      <th>50%</th>\n",
       "      <td>446.000000</td>\n",
       "      <td>0.000000</td>\n",
       "      <td>3.000000</td>\n",
       "      <td>28.000000</td>\n",
       "      <td>0.000000</td>\n",
       "      <td>0.000000</td>\n",
       "      <td>14.454200</td>\n",
       "    </tr>\n",
       "    <tr>\n",
       "      <th>75%</th>\n",
       "      <td>668.500000</td>\n",
       "      <td>1.000000</td>\n",
       "      <td>3.000000</td>\n",
       "      <td>38.000000</td>\n",
       "      <td>1.000000</td>\n",
       "      <td>0.000000</td>\n",
       "      <td>31.000000</td>\n",
       "    </tr>\n",
       "    <tr>\n",
       "      <th>max</th>\n",
       "      <td>891.000000</td>\n",
       "      <td>1.000000</td>\n",
       "      <td>3.000000</td>\n",
       "      <td>80.000000</td>\n",
       "      <td>8.000000</td>\n",
       "      <td>6.000000</td>\n",
       "      <td>512.329200</td>\n",
       "    </tr>\n",
       "  </tbody>\n",
       "</table>\n",
       "</div>"
      ],
      "text/plain": [
       "       PassengerId    Survived      Pclass         Age       SibSp  \\\n",
       "count   891.000000  891.000000  891.000000  714.000000  891.000000   \n",
       "mean    446.000000    0.383838    2.308642   29.699118    0.523008   \n",
       "std     257.353842    0.486592    0.836071   14.526497    1.102743   \n",
       "min       1.000000    0.000000    1.000000    0.420000    0.000000   \n",
       "25%     223.500000    0.000000    2.000000   20.125000    0.000000   \n",
       "50%     446.000000    0.000000    3.000000   28.000000    0.000000   \n",
       "75%     668.500000    1.000000    3.000000   38.000000    1.000000   \n",
       "max     891.000000    1.000000    3.000000   80.000000    8.000000   \n",
       "\n",
       "            Parch        Fare  \n",
       "count  891.000000  891.000000  \n",
       "mean     0.381594   32.204208  \n",
       "std      0.806057   49.693429  \n",
       "min      0.000000    0.000000  \n",
       "25%      0.000000    7.910400  \n",
       "50%      0.000000   14.454200  \n",
       "75%      0.000000   31.000000  \n",
       "max      6.000000  512.329200  "
      ]
     },
     "execution_count": 6,
     "metadata": {},
     "output_type": "execute_result"
    }
   ],
   "source": [
    "df.describe()"
   ]
  },
  {
   "cell_type": "code",
   "execution_count": 7,
   "metadata": {},
   "outputs": [
    {
     "data": {
      "text/html": [
       "<div>\n",
       "<style scoped>\n",
       "    .dataframe tbody tr th:only-of-type {\n",
       "        vertical-align: middle;\n",
       "    }\n",
       "\n",
       "    .dataframe tbody tr th {\n",
       "        vertical-align: top;\n",
       "    }\n",
       "\n",
       "    .dataframe thead th {\n",
       "        text-align: right;\n",
       "    }\n",
       "</style>\n",
       "<table border=\"1\" class=\"dataframe\">\n",
       "  <thead>\n",
       "    <tr style=\"text-align: right;\">\n",
       "      <th></th>\n",
       "      <th>Name</th>\n",
       "      <th>Sex</th>\n",
       "      <th>Ticket</th>\n",
       "      <th>Cabin</th>\n",
       "      <th>Embarked</th>\n",
       "    </tr>\n",
       "  </thead>\n",
       "  <tbody>\n",
       "    <tr>\n",
       "      <th>count</th>\n",
       "      <td>891</td>\n",
       "      <td>891</td>\n",
       "      <td>891</td>\n",
       "      <td>204</td>\n",
       "      <td>889</td>\n",
       "    </tr>\n",
       "    <tr>\n",
       "      <th>unique</th>\n",
       "      <td>891</td>\n",
       "      <td>2</td>\n",
       "      <td>681</td>\n",
       "      <td>147</td>\n",
       "      <td>3</td>\n",
       "    </tr>\n",
       "    <tr>\n",
       "      <th>top</th>\n",
       "      <td>Braund, Mr. Owen Harris</td>\n",
       "      <td>male</td>\n",
       "      <td>347082</td>\n",
       "      <td>B96 B98</td>\n",
       "      <td>S</td>\n",
       "    </tr>\n",
       "    <tr>\n",
       "      <th>freq</th>\n",
       "      <td>1</td>\n",
       "      <td>577</td>\n",
       "      <td>7</td>\n",
       "      <td>4</td>\n",
       "      <td>644</td>\n",
       "    </tr>\n",
       "  </tbody>\n",
       "</table>\n",
       "</div>"
      ],
      "text/plain": [
       "                           Name   Sex  Ticket    Cabin Embarked\n",
       "count                       891   891     891      204      889\n",
       "unique                      891     2     681      147        3\n",
       "top     Braund, Mr. Owen Harris  male  347082  B96 B98        S\n",
       "freq                          1   577       7        4      644"
      ]
     },
     "execution_count": 7,
     "metadata": {},
     "output_type": "execute_result"
    }
   ],
   "source": [
    "df.describe(include=object)"
   ]
  },
  {
   "cell_type": "code",
   "execution_count": 8,
   "metadata": {},
   "outputs": [
    {
     "name": "stdout",
     "output_type": "stream",
     "text": [
      "Probabilty of surving: 0.38\n",
      "Probabilty of not surving: 0.62\n"
     ]
    }
   ],
   "source": [
    "# Probability of surviving or not surviving.\n",
    "total_persons = df['Survived'].count()\n",
    "count_Surviving = (df['Survived'] == 1).sum()\n",
    "Probability_surviving = count_Surviving / total_persons\n",
    "Probability_not_surviving = 1 - Probability_surviving\n",
    "print('Probabilty of surving:',round(Probability_surviving,2))\n",
    "print('Probabilty of not surving:',round(Probability_not_surviving,2))"
   ]
  },
  {
   "cell_type": "code",
   "execution_count": 9,
   "metadata": {},
   "outputs": [
    {
     "name": "stdout",
     "output_type": "stream",
     "text": [
      "Probabilty of male: 0.65\n",
      "Probabilty of female: 0.35\n"
     ]
    }
   ],
   "source": [
    "# Probability of being male, and female\n",
    "total_persons = df['Sex'].count()\n",
    "count_male = (df['Sex'] == 'male').sum()\n",
    "Probability_male = count_male / total_persons\n",
    "Probability_female = 1 - Probability_male\n",
    "print('Probabilty of male:',round(Probability_male,2))\n",
    "print('Probabilty of female:',round(Probability_female,2))"
   ]
  },
  {
   "cell_type": "code",
   "execution_count": 10,
   "metadata": {},
   "outputs": [
    {
     "name": "stdout",
     "output_type": "stream",
     "text": [
      "Probabilty of first_class: 0.24\n",
      "Probabilty of second_class: 0.21\n",
      "Probabilty of third_class: 0.55\n"
     ]
    }
   ],
   "source": [
    "# Probability of being in first class, second class or the third class.\n",
    "total_persons = df['Pclass'].count()\n",
    "count_first_class = (df['Pclass'] == 1).sum()\n",
    "count_second_class = (df['Pclass'] == 2).sum()\n",
    "count_third_class = (df['Pclass'] == 3).sum()\n",
    "Probability_first_class = count_first_class / total_persons\n",
    "Probability_second_class = count_second_class / total_persons\n",
    "Probability_third_class = count_third_class / total_persons\n",
    "print('Probabilty of first_class:',round(Probability_first_class,2))\n",
    "print('Probabilty of second_class:',round(Probability_second_class,2))\n",
    "print('Probabilty of third_class:',round(Probability_third_class,2))"
   ]
  },
  {
   "cell_type": "code",
   "execution_count": null,
   "metadata": {},
   "outputs": [],
   "source": []
  },
  {
   "cell_type": "markdown",
   "metadata": {},
   "source": [
    "## Task 2"
   ]
  },
  {
   "cell_type": "raw",
   "metadata": {},
   "source": [
    "Calculate the following conditional probabilities:\n",
    "Probability of surviving given that the passenger is male or female.\n",
    "Probability of surviving given that the passenger is in first class, second class, and third class respectively."
   ]
  },
  {
   "cell_type": "code",
   "execution_count": 11,
   "metadata": {},
   "outputs": [
    {
     "name": "stdout",
     "output_type": "stream",
     "text": [
      "Probability of surviving given that the passenger is male or female is: 0.38\n"
     ]
    }
   ],
   "source": [
    "#Probability of surviving given that the passenger ismale or female.\n",
    "male_female =  ((df['Sex'] == 'male') | (df['Sex'] == 'female')).sum()/ df['PassengerId'].count()\n",
    "surviving_male_female  = df[df['Survived']==1 & ((df['Sex'] == 'male') | (df['Sex'] == 'female'))]['PassengerId'].count()/df['PassengerId'].count()\n",
    "prob_surv_male_female = surviving_male_female/male_female\n",
    "print('Probability of surviving given that the passenger is male or female is:',round(prob_surv_male_female,2))"
   ]
  },
  {
   "cell_type": "code",
   "execution_count": 12,
   "metadata": {},
   "outputs": [
    {
     "name": "stdout",
     "output_type": "stream",
     "text": [
      "Probability of surviving given that the passenger is in first class :  0.63\n",
      "Probability of surviving given that the passenger is in second class :  0.47\n",
      "Probability of surviving given that the passenger is in third class :  0.24\n"
     ]
    }
   ],
   "source": [
    "#Probability of surviving given that the passenger is in first class, second class, and third class respectively.\n",
    "number_surv_first = df[(df['Survived'] == 1) & (df['Pclass'] == 1)]['PassengerId'].count()\n",
    "number_first = df[(df['Pclass'] == 1)]['PassengerId'].count()\n",
    "prob_surv_first = number_surv_first/number_first\n",
    "print('Probability of surviving given that the passenger is in first class : ',round(prob_surv_first,2))\n",
    "\n",
    "number_surv_second = df[(df['Survived'] == 1) & (df['Pclass'] == 2)]['PassengerId'].count()\n",
    "number_second  = df[(df['Pclass'] == 2)]['PassengerId'].count()\n",
    "prob_surv_second  = number_surv_second /number_second \n",
    "print('Probability of surviving given that the passenger is in second class : ',round(prob_surv_second,2))\n",
    "\n",
    "number_surv_third = df[(df['Survived'] == 1) & (df['Pclass'] == 3)]['PassengerId'].count()\n",
    "number_third  = df[(df['Pclass'] == 3)]['PassengerId'].count()\n",
    "prob_surv_third  = number_surv_third /number_third\n",
    "print('Probability of surviving given that the passenger is in third class : ',round(prob_surv_third,2))"
   ]
  },
  {
   "cell_type": "code",
   "execution_count": null,
   "metadata": {},
   "outputs": [],
   "source": []
  },
  {
   "cell_type": "markdown",
   "metadata": {},
   "source": [
    "## Task 4"
   ]
  },
  {
   "cell_type": "raw",
   "metadata": {},
   "source": [
    "Compute the joint probabilities of the following events:\n",
    "Being a male and surviving\n",
    "Being a female and surviving\n",
    "Being in first class and surviving\n",
    "Being in second class and surviving\n",
    "Being in third class and surviving\n",
    "Explain all the Results."
   ]
  },
  {
   "cell_type": "code",
   "execution_count": 13,
   "metadata": {},
   "outputs": [
    {
     "name": "stdout",
     "output_type": "stream",
     "text": [
      "Being a male and surviving :  0.12\n",
      "Explaination : Out of all the passanger if a  passanger is selected at random then the probality that the passanger is a male & who has survived is 0.12\n"
     ]
    }
   ],
   "source": [
    "# Being a male and surviving\n",
    "count_male_surv = df[(df['Sex'] == 'male') & (df['Survived']==1)]['PassengerId'].count()\n",
    "count_passengers = df['PassengerId'].count()\n",
    "jointprob_male_surv = count_male_surv/count_passengers\n",
    "print('Being a male and surviving : ',round(jointprob_male_surv,2))\n",
    "print(\"Explaination : Out of all the passanger if a  passanger is selected at random then the probality that the passanger is a male & who has survived is\", round(jointprob_male_surv,2))"
   ]
  },
  {
   "cell_type": "code",
   "execution_count": 14,
   "metadata": {},
   "outputs": [
    {
     "name": "stdout",
     "output_type": "stream",
     "text": [
      "Being a female and surviving :  0.12\n",
      "Explaination : Out of all the passanger if a  passanger is selected at random then the probality that the passanger is a female & who has survived is 0.12\n"
     ]
    }
   ],
   "source": [
    "# Being a female and surviving\n",
    "count_female_surv = df[(df['Sex'] == 'male') & (df['Survived']==1)]['PassengerId'].count()\n",
    "count_passengers = df['PassengerId'].count()\n",
    "jointprob_female_surv = count_female_surv/count_passengers\n",
    "print('Being a female and surviving : ',round(jointprob_female_surv,2))\n",
    "print(\"Explaination : Out of all the passanger if a  passanger is selected at random then the probality that the passanger is a female & who has survived is\", round(jointprob_female_surv,2))"
   ]
  },
  {
   "cell_type": "code",
   "execution_count": 15,
   "metadata": {},
   "outputs": [
    {
     "name": "stdout",
     "output_type": "stream",
     "text": [
      "Being in first class and surviving :  0.15\n",
      "Explaination : Out of all the passanger if a  passanger is selected at random then the probality that the passanger is a first class & who has survived is 0.15\n"
     ]
    }
   ],
   "source": [
    "# Being in first class and surviving\n",
    "count_first_surv = df[(df['Pclass'] == 1) & (df['Survived']==1)]['PassengerId'].count()\n",
    "count_passengers = df['PassengerId'].count()\n",
    "jointprob_first_surv = count_first_surv/count_passengers\n",
    "print('Being in first class and surviving : ',round(jointprob_first_surv,2))\n",
    "print(\"Explaination : Out of all the passanger if a  passanger is selected at random then the probality that the passanger is a first class & who has survived is\", round(jointprob_first_surv,2))"
   ]
  },
  {
   "cell_type": "code",
   "execution_count": 16,
   "metadata": {},
   "outputs": [
    {
     "name": "stdout",
     "output_type": "stream",
     "text": [
      "Being in second class and surviving :  0.1\n",
      "Explaination : Out of all the passanger if a  passanger is selected at random then the probality that the passanger is a second class & who has survived is 0.1\n"
     ]
    }
   ],
   "source": [
    "# Being in second class and surviving\n",
    "count_second_surv = df[(df['Pclass'] == 2) & (df['Survived']==1)]['PassengerId'].count()\n",
    "count_passengers = df['PassengerId'].count()\n",
    "jointprob_second_surv = count_second_surv/count_passengers\n",
    "print('Being in second class and surviving : ',round(jointprob_second_surv,2))\n",
    "print(\"Explaination : Out of all the passanger if a  passanger is selected at random then the probality that the passanger is a second class & who has survived is\", round(jointprob_second_surv,2))"
   ]
  },
  {
   "cell_type": "code",
   "execution_count": 17,
   "metadata": {},
   "outputs": [
    {
     "name": "stdout",
     "output_type": "stream",
     "text": [
      "Being in third class and surviving :  0.13\n",
      "Explaination : Out of all the passanger if a  passanger is selected at random then the probality that the passanger is a third class & who has survived is 0.13\n"
     ]
    }
   ],
   "source": [
    "# Being in third class and surviving\n",
    "count_third_surv = df[(df['Pclass'] == 3) & (df['Survived']==1)]['PassengerId'].count()\n",
    "count_passengers = df['PassengerId'].count()\n",
    "jointprob_third_surv = count_third_surv/count_passengers\n",
    "print('Being in third class and surviving : ',round(jointprob_third_surv,2))\n",
    "print(\"Explaination : Out of all the passanger if a  passanger is selected at random then the probality that the passanger is a third class & who has survived is\", round(jointprob_third_surv,2))"
   ]
  },
  {
   "cell_type": "code",
   "execution_count": null,
   "metadata": {},
   "outputs": [],
   "source": []
  },
  {
   "cell_type": "markdown",
   "metadata": {},
   "source": [
    "## Task 5"
   ]
  },
  {
   "cell_type": "raw",
   "metadata": {},
   "source": [
    "Calculate the conditional probability of survival given that the passenger is an adult (age greater than or equal to 18).\n",
    "Calculate the conditional probability of survival given that the passenger is a child (age less than 18).\n",
    "Determine if survival and passenger class are independent events. Calculate the probability of surviving in each class and compare it with the overall survival rate."
   ]
  },
  {
   "cell_type": "code",
   "execution_count": 18,
   "metadata": {},
   "outputs": [
    {
     "name": "stdout",
     "output_type": "stream",
     "text": [
      "the conditional probability of survival given that the passenger is an adult (age greater than or equal to 18) 0.38\n"
     ]
    }
   ],
   "source": [
    "# Calculate the conditional probability of survival given that the passenger is an adult (age greater than or equal to 18).\n",
    "prob_adult = df[(df['Age']>=18)]['PassengerId'].count()/df['PassengerId'].count()\n",
    "prob_survive_adult = df[(df['Age']>=18) & (df['Survived']==1)]['PassengerId'].count()/df['PassengerId'].count()\n",
    "condprob_survive_adult = prob_survive_adult/prob_adult\n",
    "print(\"the conditional probability of survival given that the passenger is an adult (age greater than or equal to 18)\",round(condprob_survive_adult,2))"
   ]
  },
  {
   "cell_type": "code",
   "execution_count": 19,
   "metadata": {},
   "outputs": [
    {
     "name": "stdout",
     "output_type": "stream",
     "text": [
      "the conditional probability of survival given that the passenger is a child (age less than 18) 0.54\n"
     ]
    }
   ],
   "source": [
    "# Calculate the conditional probability of survival given that the passenger is a child (age less than 18).\n",
    "prob_child = df[(df['Age']<18)]['PassengerId'].count()/df['PassengerId'].count()\n",
    "prob_survive_child = df[(df['Age']<18) & (df['Survived']==1)]['PassengerId'].count()/df['PassengerId'].count()\n",
    "condprob_survive_child = prob_survive_child/prob_child\n",
    "print(\"the conditional probability of survival given that the passenger is a child (age less than 18)\",round(condprob_survive_child,2))"
   ]
  },
  {
   "cell_type": "code",
   "execution_count": 74,
   "metadata": {},
   "outputs": [
    {
     "name": "stdout",
     "output_type": "stream",
     "text": [
      "survival and passenger class are independent events\n",
      "\n",
      "\n",
      "probability of surviving in first class:  0.63\n",
      "probability of surviving in second class:  0.47\n",
      "probability of surviving in third class:  0.24\n",
      "\n",
      "\n",
      "compare it with the overall survival rate: not independent events\n"
     ]
    }
   ],
   "source": [
    "# Determine if survival and passenger class are independent events. Calculate the probability of surviving in each class and compare it with the overall survival rate.\n",
    "prob_survival = df[(df['Survived']==1)]['PassengerId'].count()/df['PassengerId'].count()\n",
    "\n",
    "if (jointprob_first_surv + jointprob_second_surv + jointprob_third_surv) == prob_survival:\n",
    "    print(\"survival and passenger class are independent events\")\n",
    "else:\n",
    "     print(\"survival and passenger class are not independent events\")\n",
    "print('\\n')\n",
    "print(\"probability of surviving in first class: \",round(prob_surv_first,2))\n",
    "print(\"probability of surviving in second class: \",round(prob_surv_second,2))\n",
    "print(\"probability of surviving in third class: \", round(prob_surv_third,2))\n",
    "print('\\n')\n",
    "if prob_surv_first + prob_surv_second + prob_surv_third == prob_survival:\n",
    "    print(\"compare it with the overall survival rate: independent events\")\n",
    "else:\n",
    "    print(\"compare it with the overall survival rate: not independent events\") "
   ]
  },
  {
   "cell_type": "code",
   "execution_count": null,
   "metadata": {},
   "outputs": [],
   "source": []
  },
  {
   "cell_type": "markdown",
   "metadata": {},
   "source": [
    "## Task 6 - Hypothesis Testing"
   ]
  },
  {
   "cell_type": "markdown",
   "metadata": {},
   "source": [
    "Hypothesis: The survival rate of male passengers is equal to the survival rate of female passengers.\n",
    "\n",
    "Hypothesis: The survival rate of passengers in firstclass is higher than the survival rate of passengers in third class.\n",
    "\n",
    "Perform a hypothesis test to validate or reject the null hypothesis in each scenario. Use appropriate\n",
    "statistical tests, such as chi-square test or t-test, to analyze the data and calculate the p-values.\n",
    "Provide a conclusion for each hypothesis test, indicating whether the null hypothesis should be accepted or rejected."
   ]
  },
  {
   "cell_type": "markdown",
   "metadata": {},
   "source": [
    "### 1) Hypothesis: The survival rate of male passengers is equal to the survival rate of female passengers."
   ]
  },
  {
   "cell_type": "raw",
   "metadata": {},
   "source": [
    "Hypothesis formulation"
   ]
  },
  {
   "cell_type": "markdown",
   "metadata": {},
   "source": [
    "Null Hypotheis : The survival rate of male passengers is equal to the survival rate of female passengers\n",
    "\n",
    "Alternative Hypothesis : The survival rate of male passengers is not equal to the survival rate of female passengers"
   ]
  },
  {
   "cell_type": "markdown",
   "metadata": {},
   "source": [
    "#### chi-square test "
   ]
  },
  {
   "cell_type": "code",
   "execution_count": 54,
   "metadata": {},
   "outputs": [
    {
     "name": "stdout",
     "output_type": "stream",
     "text": [
      "Chi-square statistic: 260.71702016732104\n",
      "p-value: 1.1973570627755645e-58\n",
      "Degrees of freedom: 1\n",
      "Expected frequencies:\n",
      "[[193.47474747 120.52525253]\n",
      " [355.52525253 221.47474747]]\n",
      "\n",
      "\n",
      "Reject : Null Hypothesis\n",
      "Accept : Alternative Hypothesis : The survival rate of male passengers is not equal to the survival rate of female passengers\n"
     ]
    }
   ],
   "source": [
    "# Prepare contingency table\n",
    "contingency_table = pd.crosstab(df['Sex'], df['Survived'])\n",
    "\n",
    "#choosing significance level \n",
    "significance_level = 0.05\n",
    "\n",
    "#Perform chi-square test \n",
    "chi2, p_value, dof, expected = chi2_contingency(contingency_table)\n",
    "\n",
    "print(\"Chi-square statistic:\", chi2)\n",
    "print(\"p-value:\", p)\n",
    "print(\"Degrees of freedom:\", dof)\n",
    "print(\"Expected frequencies:\")\n",
    "print(expected)\n",
    "print('\\n')\n",
    "if p_value < significance_level:\n",
    "    print(\"Reject : Null Hypothesis\")\n",
    "    print(\"Accept : Alternative Hypothesis : The survival rate of male passengers is not equal to the survival rate of female passengers\")\n",
    "else:\n",
    "    print(\"Accept : Null Hypothesis\")\n",
    "    print(\"Reject : Alternative Hypothesis : The survival rate of male passengers is not equal to the survival rate of female passengers\")"
   ]
  },
  {
   "cell_type": "markdown",
   "metadata": {},
   "source": [
    "#### Two-proportion z-test"
   ]
  },
  {
   "cell_type": "code",
   "execution_count": 49,
   "metadata": {},
   "outputs": [
    {
     "name": "stdout",
     "output_type": "stream",
     "text": [
      "z_score 16.218833930670097\n",
      "p_value 3.7117477701134797e-59\n",
      "Reject : Null Hypothesis\n",
      "Accept : Alternative Hypothesis : The survival rate of male passengers is not equal to the survival rate of female passengers\n"
     ]
    }
   ],
   "source": [
    "# Prepare contingency table\n",
    "contingency_table = pd.crosstab(df['Sex'], df['Survived'])\n",
    "\n",
    "#choosing significance level \n",
    "significance_level = 0.05\n",
    "\n",
    "# Number of successes (survivors) and number of trials (total passengers)\n",
    "successes = list(contingency_table[1])\n",
    "trials = list(contingency_table[0] + contingency_table[1])\n",
    "\n",
    "# Perform two-proportion z-test\n",
    "z_score,p_value =  sm.stats.proportions_ztest(successes,trials)\n",
    "print('z_score',z_score)\n",
    "print('p_value',p_value)\n",
    "\n",
    "if p_value < significance_level:\n",
    "    print(\"Reject : Null Hypothesis\")\n",
    "    print(\"Accept : Alternative Hypothesis : The survival rate of male passengers is not equal to the survival rate of female passengers\")\n",
    "else:\n",
    "    print(\"Accept : Null Hypothesis\")\n",
    "    print(\"Reject : Alternative Hypothesis : The survival rate of male passengers is not equal to the survival rate of female passengers\")"
   ]
  },
  {
   "cell_type": "code",
   "execution_count": null,
   "metadata": {},
   "outputs": [],
   "source": []
  },
  {
   "cell_type": "markdown",
   "metadata": {},
   "source": [
    "### 2) Hypothesis: The survival rate of passengers in firstclass is higher than the survival rate of passengers in third class."
   ]
  },
  {
   "cell_type": "raw",
   "metadata": {},
   "source": [
    "Hypothesis formulation"
   ]
  },
  {
   "cell_type": "markdown",
   "metadata": {},
   "source": [
    "Null Hypotheis : The survival rate of passengers in first class is equal to or lower than the survival rate of passengers in third class.\n",
    "\n",
    "Alternative Hypothesis : The survival rate of passengers in first class is higher than the survival rate of passengers in third class"
   ]
  },
  {
   "cell_type": "markdown",
   "metadata": {},
   "source": [
    "#### chi-square test "
   ]
  },
  {
   "cell_type": "code",
   "execution_count": 68,
   "metadata": {},
   "outputs": [
    {
     "name": "stdout",
     "output_type": "stream",
     "text": [
      "Chi-square statistic: 95.89348388920357\n",
      "p-value: 1.2123375217498223e-22\n",
      "Degrees of freedom: 1\n",
      "Expected frequencies:\n",
      "[[138.09335219  77.90664781]\n",
      " [313.90664781 177.09335219]]\n",
      "\n",
      "\n",
      "Reject : Null Hypothesis\n",
      "Accept : Alternative Hypothesis : The survival rate of passengers in first class is higher than the survival rate of passengers in third class\n"
     ]
    }
   ],
   "source": [
    "# Prepare contingency table\n",
    "contingency_table = pd.crosstab(df[(df['Pclass']==1) | (df['Pclass']==3)]['Pclass'], df[(df['Pclass']==1) | (df['Pclass']==3)]['Survived'])\n",
    "\n",
    "#choosing significance level \n",
    "significance_level = 0.05\n",
    "\n",
    "#Perform chi-square test \n",
    "chi2, p_value, dof, expected = chi2_contingency(contingency_table)\n",
    "\n",
    "print(\"Chi-square statistic:\", chi2)\n",
    "print(\"p-value:\", p_value)\n",
    "print(\"Degrees of freedom:\", dof)\n",
    "print(\"Expected frequencies:\")\n",
    "print(expected)\n",
    "print('\\n')\n",
    "if p_value < significance_level:\n",
    "    print(\"Reject : Null Hypothesis\")\n",
    "    print(\"Accept : Alternative Hypothesis : The survival rate of passengers in first class is higher than the survival rate of passengers in third class\")\n",
    "else:\n",
    "    print(\"Accept : Null Hypothesis\")\n",
    "    print(\"Reject : Alternative Hypothesis : The survival rate of passengers in first class is higher than the survival rate of passengers in third class\")"
   ]
  },
  {
   "cell_type": "markdown",
   "metadata": {},
   "source": [
    "### Two-proportion z-test"
   ]
  },
  {
   "cell_type": "code",
   "execution_count": 71,
   "metadata": {},
   "outputs": [
    {
     "name": "stdout",
     "output_type": "stream",
     "text": [
      "z_score 9.87753617661869\n",
      "p_value 5.209807780351272e-23\n",
      "\n",
      "\n",
      "Reject : Null Hypothesis\n",
      "Accept : Alternative Hypothesis : The survival rate of passengers in first class is higher than the survival rate of passengers in third class\n"
     ]
    }
   ],
   "source": [
    "# Prepare contingency table\n",
    "contingency_table = pd.crosstab(df[(df['Pclass']==1) | (df['Pclass']==3)]['Pclass'], df[(df['Pclass']==1) | (df['Pclass']==3)]['Survived'])\n",
    "\n",
    "#choosing significance level \n",
    "significance_level = 0.05\n",
    "\n",
    "# Number of successes (survivors) and number of trials (total passengers)\n",
    "successes = list(contingency_table[1])\n",
    "trials = list(contingency_table[0] + contingency_table[1])\n",
    "\n",
    "# Perform two-proportion z-test\n",
    "z_score,p_value =  sm.stats.proportions_ztest(successes,trials)\n",
    "print('z_score',z_score)\n",
    "print('p_value',p_value)\n",
    "print('\\n')\n",
    "if p_value < significance_level:\n",
    "    print(\"Reject : Null Hypothesis\")\n",
    "    print(\"Accept : Alternative Hypothesis : The survival rate of passengers in first class is higher than the survival rate of passengers in third class\")\n",
    "else:\n",
    "    print(\"Accept : Null Hypothesis\")\n",
    "    print(\"Reject : Alternative Hypothesis : The survival rate of passengers in first class is higher than the survival rate of passengers in third class\")"
   ]
  }
 ],
 "metadata": {
  "kernelspec": {
   "display_name": "Python 3 (ipykernel)",
   "language": "python",
   "name": "python3"
  },
  "language_info": {
   "codemirror_mode": {
    "name": "ipython",
    "version": 3
   },
   "file_extension": ".py",
   "mimetype": "text/x-python",
   "name": "python",
   "nbconvert_exporter": "python",
   "pygments_lexer": "ipython3",
   "version": "3.10.5"
  }
 },
 "nbformat": 4,
 "nbformat_minor": 4
}
