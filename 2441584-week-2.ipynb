{
 "cells": [
  {
   "cell_type": "markdown",
   "metadata": {},
   "source": [
    "## STATISTICS & PROBABILITY\n",
    "Topic: Descriptive Statistics and Inferential Statistics"
   ]
  },
  {
   "cell_type": "markdown",
   "metadata": {},
   "source": [
    "source code https://github.com/nitishbuzzpro/Statistics-and-Hypothesis-Tetsing--Titanic-Dataset---Data-Science.git"
   ]
  },
  {
   "cell_type": "code",
   "execution_count": 1,
   "metadata": {
    "execution": {
     "iopub.execute_input": "2024-06-19T05:22:01.282532Z",
     "iopub.status.busy": "2024-06-19T05:22:01.281979Z",
     "iopub.status.idle": "2024-06-19T05:22:04.274669Z",
     "shell.execute_reply": "2024-06-19T05:22:04.273195Z",
     "shell.execute_reply.started": "2024-06-19T05:22:01.282477Z"
    }
   },
   "outputs": [],
   "source": [
    "import numpy as np \n",
    "import pandas as pd\n",
    "import matplotlib.pyplot as plt\n",
    "import seaborn as sns\n",
    "from scipy import stats"
   ]
  },
  {
   "cell_type": "markdown",
   "metadata": {},
   "source": [
    "### Task 1"
   ]
  },
  {
   "cell_type": "code",
   "execution_count": 2,
   "metadata": {
    "execution": {
     "iopub.execute_input": "2024-06-19T05:22:04.277776Z",
     "iopub.status.busy": "2024-06-19T05:22:04.277237Z",
     "iopub.status.idle": "2024-06-19T05:22:04.287561Z",
     "shell.execute_reply": "2024-06-19T05:22:04.286036Z",
     "shell.execute_reply.started": "2024-06-19T05:22:04.277743Z"
    }
   },
   "outputs": [],
   "source": [
    "# Tasks:\n",
    "# Load the Titanic dataset using Python and perform\n",
    "# the following descriptive statistics:\n",
    "# Calculate the mean, median, and mode of the age\n",
    "# of passengers.\n",
    "# Calculate the range, variance, and standard\n",
    "# deviation of the fare paid by passengers.\n",
    "# Calculate the correlation coefficient between the\n",
    "# age and fare columns.\n",
    "# Compute the quartiles (25th, 50th, and 75th\n",
    "# percentiles) of the age and fare columns.\n",
    "# Generate a histogram and box plot for the age distribution of passengers.\n",
    "# Explain Box plot, and How Box plot could be useful in a Real-world Scenario."
   ]
  },
  {
   "cell_type": "code",
   "execution_count": 3,
   "metadata": {
    "execution": {
     "iopub.execute_input": "2024-06-19T05:22:04.290847Z",
     "iopub.status.busy": "2024-06-19T05:22:04.289348Z",
     "iopub.status.idle": "2024-06-19T05:22:05.208201Z",
     "shell.execute_reply": "2024-06-19T05:22:05.206885Z",
     "shell.execute_reply.started": "2024-06-19T05:22:04.290797Z"
    }
   },
   "outputs": [
    {
     "data": {
      "text/html": [
       "<div>\n",
       "<style scoped>\n",
       "    .dataframe tbody tr th:only-of-type {\n",
       "        vertical-align: middle;\n",
       "    }\n",
       "\n",
       "    .dataframe tbody tr th {\n",
       "        vertical-align: top;\n",
       "    }\n",
       "\n",
       "    .dataframe thead th {\n",
       "        text-align: right;\n",
       "    }\n",
       "</style>\n",
       "<table border=\"1\" class=\"dataframe\">\n",
       "  <thead>\n",
       "    <tr style=\"text-align: right;\">\n",
       "      <th></th>\n",
       "      <th>PassengerId</th>\n",
       "      <th>Survived</th>\n",
       "      <th>Pclass</th>\n",
       "      <th>Name</th>\n",
       "      <th>Sex</th>\n",
       "      <th>Age</th>\n",
       "      <th>SibSp</th>\n",
       "      <th>Parch</th>\n",
       "      <th>Ticket</th>\n",
       "      <th>Fare</th>\n",
       "      <th>Cabin</th>\n",
       "      <th>Embarked</th>\n",
       "    </tr>\n",
       "  </thead>\n",
       "  <tbody>\n",
       "    <tr>\n",
       "      <th>0</th>\n",
       "      <td>1</td>\n",
       "      <td>0</td>\n",
       "      <td>3</td>\n",
       "      <td>Braund, Mr. Owen Harris</td>\n",
       "      <td>male</td>\n",
       "      <td>22.0</td>\n",
       "      <td>1</td>\n",
       "      <td>0</td>\n",
       "      <td>A/5 21171</td>\n",
       "      <td>7.2500</td>\n",
       "      <td>NaN</td>\n",
       "      <td>S</td>\n",
       "    </tr>\n",
       "    <tr>\n",
       "      <th>1</th>\n",
       "      <td>2</td>\n",
       "      <td>1</td>\n",
       "      <td>1</td>\n",
       "      <td>Cumings, Mrs. John Bradley (Florence Briggs Th...</td>\n",
       "      <td>female</td>\n",
       "      <td>38.0</td>\n",
       "      <td>1</td>\n",
       "      <td>0</td>\n",
       "      <td>PC 17599</td>\n",
       "      <td>71.2833</td>\n",
       "      <td>C85</td>\n",
       "      <td>C</td>\n",
       "    </tr>\n",
       "    <tr>\n",
       "      <th>2</th>\n",
       "      <td>3</td>\n",
       "      <td>1</td>\n",
       "      <td>3</td>\n",
       "      <td>Heikkinen, Miss. Laina</td>\n",
       "      <td>female</td>\n",
       "      <td>26.0</td>\n",
       "      <td>0</td>\n",
       "      <td>0</td>\n",
       "      <td>STON/O2. 3101282</td>\n",
       "      <td>7.9250</td>\n",
       "      <td>NaN</td>\n",
       "      <td>S</td>\n",
       "    </tr>\n",
       "    <tr>\n",
       "      <th>3</th>\n",
       "      <td>4</td>\n",
       "      <td>1</td>\n",
       "      <td>1</td>\n",
       "      <td>Futrelle, Mrs. Jacques Heath (Lily May Peel)</td>\n",
       "      <td>female</td>\n",
       "      <td>35.0</td>\n",
       "      <td>1</td>\n",
       "      <td>0</td>\n",
       "      <td>113803</td>\n",
       "      <td>53.1000</td>\n",
       "      <td>C123</td>\n",
       "      <td>S</td>\n",
       "    </tr>\n",
       "    <tr>\n",
       "      <th>4</th>\n",
       "      <td>5</td>\n",
       "      <td>0</td>\n",
       "      <td>3</td>\n",
       "      <td>Allen, Mr. William Henry</td>\n",
       "      <td>male</td>\n",
       "      <td>35.0</td>\n",
       "      <td>0</td>\n",
       "      <td>0</td>\n",
       "      <td>373450</td>\n",
       "      <td>8.0500</td>\n",
       "      <td>NaN</td>\n",
       "      <td>S</td>\n",
       "    </tr>\n",
       "  </tbody>\n",
       "</table>\n",
       "</div>"
      ],
      "text/plain": [
       "   PassengerId  Survived  Pclass  \\\n",
       "0            1         0       3   \n",
       "1            2         1       1   \n",
       "2            3         1       3   \n",
       "3            4         1       1   \n",
       "4            5         0       3   \n",
       "\n",
       "                                                Name     Sex   Age  SibSp  \\\n",
       "0                            Braund, Mr. Owen Harris    male  22.0      1   \n",
       "1  Cumings, Mrs. John Bradley (Florence Briggs Th...  female  38.0      1   \n",
       "2                             Heikkinen, Miss. Laina  female  26.0      0   \n",
       "3       Futrelle, Mrs. Jacques Heath (Lily May Peel)  female  35.0      1   \n",
       "4                           Allen, Mr. William Henry    male  35.0      0   \n",
       "\n",
       "   Parch            Ticket     Fare Cabin Embarked  \n",
       "0      0         A/5 21171   7.2500   NaN        S  \n",
       "1      0          PC 17599  71.2833   C85        C  \n",
       "2      0  STON/O2. 3101282   7.9250   NaN        S  \n",
       "3      0            113803  53.1000  C123        S  \n",
       "4      0            373450   8.0500   NaN        S  "
      ]
     },
     "execution_count": 3,
     "metadata": {},
     "output_type": "execute_result"
    }
   ],
   "source": [
    "# Load the Titanic dataset using Python and perform the following descriptive statistics:\n",
    "df = pd.read_excel('../input/train-dataset/train.xlsx')\n",
    "df.head()"
   ]
  },
  {
   "cell_type": "code",
   "execution_count": 4,
   "metadata": {
    "execution": {
     "iopub.execute_input": "2024-06-19T05:22:05.210703Z",
     "iopub.status.busy": "2024-06-19T05:22:05.210001Z",
     "iopub.status.idle": "2024-06-19T05:22:05.237930Z",
     "shell.execute_reply": "2024-06-19T05:22:05.236732Z",
     "shell.execute_reply.started": "2024-06-19T05:22:05.210653Z"
    }
   },
   "outputs": [
    {
     "name": "stdout",
     "output_type": "stream",
     "text": [
      "<class 'pandas.core.frame.DataFrame'>\n",
      "RangeIndex: 891 entries, 0 to 890\n",
      "Data columns (total 12 columns):\n",
      " #   Column       Non-Null Count  Dtype  \n",
      "---  ------       --------------  -----  \n",
      " 0   PassengerId  891 non-null    int64  \n",
      " 1   Survived     891 non-null    int64  \n",
      " 2   Pclass       891 non-null    int64  \n",
      " 3   Name         891 non-null    object \n",
      " 4   Sex          891 non-null    object \n",
      " 5   Age          714 non-null    float64\n",
      " 6   SibSp        891 non-null    int64  \n",
      " 7   Parch        891 non-null    int64  \n",
      " 8   Ticket       891 non-null    object \n",
      " 9   Fare         891 non-null    float64\n",
      " 10  Cabin        204 non-null    object \n",
      " 11  Embarked     889 non-null    object \n",
      "dtypes: float64(2), int64(5), object(5)\n",
      "memory usage: 83.7+ KB\n"
     ]
    }
   ],
   "source": [
    "df.info()"
   ]
  },
  {
   "cell_type": "code",
   "execution_count": 5,
   "metadata": {
    "execution": {
     "iopub.execute_input": "2024-06-19T05:22:05.242342Z",
     "iopub.status.busy": "2024-06-19T05:22:05.241974Z",
     "iopub.status.idle": "2024-06-19T05:22:05.258607Z",
     "shell.execute_reply": "2024-06-19T05:22:05.257126Z",
     "shell.execute_reply.started": "2024-06-19T05:22:05.242311Z"
    }
   },
   "outputs": [
    {
     "name": "stdout",
     "output_type": "stream",
     "text": [
      "mean: 29.69911764705882\n",
      "median: 28.0\n",
      "mode 24.0\n"
     ]
    }
   ],
   "source": [
    "# Calculate the mean, median, and mode of the age of passengers.\n",
    "print('mean:', df['Age'].mean())\n",
    "print('median:',df['Age'].median())\n",
    "print('mode',df['Age'].mode()[0])"
   ]
  },
  {
   "cell_type": "code",
   "execution_count": 6,
   "metadata": {
    "execution": {
     "iopub.execute_input": "2024-06-19T05:22:05.260464Z",
     "iopub.status.busy": "2024-06-19T05:22:05.260063Z",
     "iopub.status.idle": "2024-06-19T05:22:05.269788Z",
     "shell.execute_reply": "2024-06-19T05:22:05.268552Z",
     "shell.execute_reply.started": "2024-06-19T05:22:05.260416Z"
    }
   },
   "outputs": [
    {
     "name": "stdout",
     "output_type": "stream",
     "text": [
      "range:  (512.3292, 0.0)\n",
      "variance:  2469.436845743116\n",
      "Std Deviation 49.6934285971809\n"
     ]
    }
   ],
   "source": [
    "# Calculate the range, variance, and standard deviation of the fare paid by passengers.\n",
    "print('range: ',(df['Fare'].max(),df['Fare'].min()))\n",
    "print('variance: ', df['Fare'].var())\n",
    "print('Std Deviation', df['Fare'].std())"
   ]
  },
  {
   "cell_type": "code",
   "execution_count": 7,
   "metadata": {
    "execution": {
     "iopub.execute_input": "2024-06-19T05:22:05.271605Z",
     "iopub.status.busy": "2024-06-19T05:22:05.271233Z",
     "iopub.status.idle": "2024-06-19T05:22:05.287081Z",
     "shell.execute_reply": "2024-06-19T05:22:05.285726Z",
     "shell.execute_reply.started": "2024-06-19T05:22:05.271572Z"
    }
   },
   "outputs": [
    {
     "name": "stdout",
     "output_type": "stream",
     "text": [
      "correlation coefficient between the age and fare columns 0.0960666917690389\n"
     ]
    }
   ],
   "source": [
    "# Calculate the correlation coefficient between the age and fare columns.\n",
    "print('correlation coefficient between the age and fare columns',df['Age'].corr(df['Fare']) )"
   ]
  },
  {
   "cell_type": "code",
   "execution_count": 8,
   "metadata": {
    "execution": {
     "iopub.execute_input": "2024-06-19T05:22:05.289018Z",
     "iopub.status.busy": "2024-06-19T05:22:05.288592Z",
     "iopub.status.idle": "2024-06-19T05:22:05.303851Z",
     "shell.execute_reply": "2024-06-19T05:22:05.302729Z",
     "shell.execute_reply.started": "2024-06-19T05:22:05.288987Z"
    }
   },
   "outputs": [
    {
     "name": "stdout",
     "output_type": "stream",
     "text": [
      "quartiles (25th, 50th, and 75th percentiles) of the age: \n",
      " 0.25    20.125\n",
      "0.50    28.000\n",
      "0.75    38.000\n",
      "Name: Age, dtype: float64\n",
      "\n",
      "\n",
      "quartiles (25th, 50th, and 75th percentiles) of the age: \n",
      " 0.25     7.9104\n",
      "0.50    14.4542\n",
      "0.75    31.0000\n",
      "Name: Fare, dtype: float64\n"
     ]
    }
   ],
   "source": [
    "# Compute the quartiles (25th, 50th, and 75th percentiles) of the age and fare columns.\n",
    "print('quartiles (25th, 50th, and 75th percentiles) of the age: \\n',df['Age'].quantile([0.25,0.5,0.75]))\n",
    "print('\\n')\n",
    "print('quartiles (25th, 50th, and 75th percentiles) of the age: \\n',df['Fare'].quantile([0.25,0.5,0.75]))"
   ]
  },
  {
   "cell_type": "code",
   "execution_count": 9,
   "metadata": {
    "execution": {
     "iopub.execute_input": "2024-06-19T05:22:05.305915Z",
     "iopub.status.busy": "2024-06-19T05:22:05.305489Z",
     "iopub.status.idle": "2024-06-19T05:22:05.741881Z",
     "shell.execute_reply": "2024-06-19T05:22:05.740548Z",
     "shell.execute_reply.started": "2024-06-19T05:22:05.305881Z"
    }
   },
   "outputs": [
    {
     "data": {
      "text/plain": [
       "<matplotlib.legend.Legend at 0x7c3e5b93fd00>"
      ]
     },
     "execution_count": 9,
     "metadata": {},
     "output_type": "execute_result"
    },
    {
     "data": {
      "image/png": "[encoded data removed]",
      "text/plain": [
       "<Figure size 1000x500 with 1 Axes>"
      ]
     },
     "metadata": {},
     "output_type": "display_data"
    }
   ],
   "source": [
    "# Generate a histogram and box plot for the age distribution of passengers.\n",
    "plt.figure(figsize=(10,5))\n",
    "plt.hist(\n",
    "    df['Age'],\n",
    "    bins=int(np.sqrt(len(df['Age']))),          \n",
    "    range=None,       \n",
    "    density=False,    \n",
    "    weights=None,     \n",
    "    cumulative=False, \n",
    "    bottom=None,      \n",
    "    histtype='stepfilled',   \n",
    "    align='mid',      \n",
    "    orientation='vertical', \n",
    "    rwidth=None,      \n",
    "    log=False,        \n",
    "    color='blue',     \n",
    "    label='Age',      \n",
    "    stacked=False,    \n",
    ")\n",
    "plt.title('histogram for the age distribution')\n",
    "plt.xlabel('Value')\n",
    "plt.ylabel('Frequency')\n",
    "plt.legend()"
   ]
  },
  {
   "cell_type": "code",
   "execution_count": 10,
   "metadata": {
    "execution": {
     "iopub.execute_input": "2024-06-19T05:22:05.744081Z",
     "iopub.status.busy": "2024-06-19T05:22:05.743591Z",
     "iopub.status.idle": "2024-06-19T05:22:06.073061Z",
     "shell.execute_reply": "2024-06-19T05:22:06.071861Z",
     "shell.execute_reply.started": "2024-06-19T05:22:05.744038Z"
    }
   },
   "outputs": [
    {
     "data": {
      "image/png": "[encoded data removed]",
      "text/plain": [
       "<Figure size 500x1000 with 1 Axes>"
      ]
     },
     "metadata": {},
     "output_type": "display_data"
    }
   ],
   "source": [
    "# box plot for the age distribution of passengers\n",
    "plt.figure(figsize=(5, 10))\n",
    "plt.boxplot(df['Age'].dropna(),flierprops=dict(marker='x', color='red', markersize=10, linestyle='none'))\n",
    "plt.title('Box Plot of Age Distribution')\n",
    "plt.ylabel('Age')\n",
    "plt.xlabel('Plot')\n",
    "plt.grid(True)  # Add grid lines for better readability\n",
    "plt.show()"
   ]
  },
  {
   "cell_type": "code",
   "execution_count": 11,
   "metadata": {
    "execution": {
     "iopub.execute_input": "2024-06-19T05:22:06.075422Z",
     "iopub.status.busy": "2024-06-19T05:22:06.074947Z",
     "iopub.status.idle": "2024-06-19T05:22:06.083055Z",
     "shell.execute_reply": "2024-06-19T05:22:06.081856Z",
     "shell.execute_reply.started": "2024-06-19T05:22:06.075376Z"
    }
   },
   "outputs": [],
   "source": [
    "# Explain Box plot, and How Box plot could be useful in a Real-world Scenario.\n",
    "\n",
    "\n",
    "# Answer:- A box plot, also known as a whisker plot, is a graphical representation \n",
    "# of a dataset that displays its distribution through five main summary .\n",
    "# statistics: minimum, first quartile (Q1), median (Q2), third quartile (Q3), \n",
    "# and maximum. It's a powerful tool for visualizing the spread and skewness \n",
    "# of the data, identifying outliers, and comparing different datasets.\n",
    "\n",
    "# Benefits:\n",
    "# Identifying Variability: By comparing the box plots of different batches, the factory can quickly assess which batches have higher variability. A wider IQR indicates more variation in component resistance, which might be undesirable.\n",
    "\n",
    "# Detecting Outliers: Outliers in the box plot can indicate defective components or measurement errors. For instance, if some components have significantly higher or lower resistance than the typical range, these can be investigated and potentially removed from the batch to maintain quality.\n",
    "\n",
    "# Comparing Batches: Multiple box plots allow for direct comparison of the central tendency and spread of different batches. For example, if one batch has a median resistance significantly different from the others, it might indicate a shift in the manufacturing process that needs correction.\n",
    "\n",
    "# Ensuring Consistency: Regularly creating box plots for production batches can help monitor consistency over time. If the median and IQR stay relatively stable, it suggests that the manufacturing process is under control. Significant changes could prompt a review of materials, processes, or equipment.\n",
    "\n",
    "# Additional Applications:\n",
    "# Healthcare: Monitoring patient vital signs (e.g., blood pressure) to identify unusual patterns or effects of a treatment.\n",
    "# Finance: Analyzing the distribution of daily stock returns to assess risk and return.\n",
    "# Education: Comparing student test scores across different classes or schools to identify performance disparities."
   ]
  },
  {
   "cell_type": "code",
   "execution_count": null,
   "metadata": {},
   "outputs": [],
   "source": []
  },
  {
   "cell_type": "markdown",
   "metadata": {},
   "source": [
    "## Task 2"
   ]
  },
  {
   "cell_type": "code",
   "execution_count": 12,
   "metadata": {
    "execution": {
     "iopub.execute_input": "2024-06-19T05:22:06.084827Z",
     "iopub.status.busy": "2024-06-19T05:22:06.084475Z",
     "iopub.status.idle": "2024-06-19T05:22:06.101933Z",
     "shell.execute_reply": "2024-06-19T05:22:06.100397Z",
     "shell.execute_reply.started": "2024-06-19T05:22:06.084798Z"
    }
   },
   "outputs": [],
   "source": [
    "# Analyze the categorical variables using the following descriptive statistics:\n",
    "\n",
    "# Calculate the frequency distribution of the passenger classes (Pclass column).\n",
    "# Calculate the percentage distribution of survival (Survived column).\n",
    "# Determine the mode and percentage distribution of the passenger titles (Name column)."
   ]
  },
  {
   "cell_type": "code",
   "execution_count": 13,
   "metadata": {
    "execution": {
     "iopub.execute_input": "2024-06-19T05:22:06.104283Z",
     "iopub.status.busy": "2024-06-19T05:22:06.103757Z",
     "iopub.status.idle": "2024-06-19T05:22:06.128094Z",
     "shell.execute_reply": "2024-06-19T05:22:06.126866Z",
     "shell.execute_reply.started": "2024-06-19T05:22:06.104241Z"
    }
   },
   "outputs": [
    {
     "name": "stdout",
     "output_type": "stream",
     "text": [
      "frequency distribution of the passenger classes (Pclass column):\n",
      " Pclass\n",
      "1    216\n",
      "2    184\n",
      "3    491\n",
      "Name: count, dtype: int64\n"
     ]
    }
   ],
   "source": [
    "# Calculate the frequency distribution of the passenger classes (Pclass column).\n",
    "print('frequency distribution of the passenger classes (Pclass column):\\n',df['Pclass'].value_counts().sort_index())"
   ]
  },
  {
   "cell_type": "code",
   "execution_count": 14,
   "metadata": {
    "execution": {
     "iopub.execute_input": "2024-06-19T05:22:06.134765Z",
     "iopub.status.busy": "2024-06-19T05:22:06.134302Z",
     "iopub.status.idle": "2024-06-19T05:22:06.143997Z",
     "shell.execute_reply": "2024-06-19T05:22:06.142607Z",
     "shell.execute_reply.started": "2024-06-19T05:22:06.134728Z"
    }
   },
   "outputs": [
    {
     "name": "stdout",
     "output_type": "stream",
     "text": [
      "the percentage distribution of survival (Survived column):\n",
      " Survived\n",
      "0    61.616162\n",
      "1    38.383838\n",
      "Name: proportion, dtype: float64\n"
     ]
    }
   ],
   "source": [
    "# Calculate the percentage distribution of survival (Survived column).\n",
    "print('the percentage distribution of survival (Survived column):\\n',df['Survived'].value_counts(normalize=True) *100)"
   ]
  },
  {
   "cell_type": "code",
   "execution_count": 15,
   "metadata": {
    "execution": {
     "iopub.execute_input": "2024-06-19T05:22:06.146367Z",
     "iopub.status.busy": "2024-06-19T05:22:06.145895Z",
     "iopub.status.idle": "2024-06-19T05:22:06.165068Z",
     "shell.execute_reply": "2024-06-19T05:22:06.163328Z",
     "shell.execute_reply.started": "2024-06-19T05:22:06.146312Z"
    }
   },
   "outputs": [
    {
     "name": "stdout",
     "output_type": "stream",
     "text": [
      "the mode of the passenger titles (Name column):.\n",
      " Mr\n",
      "\n",
      "\n",
      "the  percentage distribution of the passenger titles (Name column):.\n",
      " title\n",
      "Mr              58.024691\n",
      "Miss            20.426487\n",
      "Mrs             14.029181\n",
      "Master           4.489338\n",
      "Dr               0.785634\n",
      "Rev              0.673401\n",
      "Mlle             0.224467\n",
      "Major            0.224467\n",
      "Col              0.224467\n",
      "the Countess     0.112233\n",
      "Capt             0.112233\n",
      "Ms               0.112233\n",
      "Sir              0.112233\n",
      "Lady             0.112233\n",
      "Mme              0.112233\n",
      "Don              0.112233\n",
      "Jonkheer         0.112233\n",
      "Name: proportion, dtype: float64\n"
     ]
    }
   ],
   "source": [
    "# Determine the mode and percentage distribution of the passenger titles (Name column).\n",
    "df['title'] = df['Name'].apply(lambda name : name.split(',')[1].split('.')[0].strip())\n",
    "print('the mode of the passenger titles (Name column):.\\n', df['title'].mode()[0])\n",
    "print('\\n')\n",
    "print('the  percentage distribution of the passenger titles (Name column):.\\n',df['title'].value_counts(normalize=True) *100 )"
   ]
  },
  {
   "cell_type": "code",
   "execution_count": null,
   "metadata": {},
   "outputs": [],
   "source": []
  },
  {
   "cell_type": "markdown",
   "metadata": {},
   "source": [
    "## Task 3"
   ]
  },
  {
   "cell_type": "code",
   "execution_count": 16,
   "metadata": {
    "execution": {
     "iopub.execute_input": "2024-06-19T05:22:06.167325Z",
     "iopub.status.busy": "2024-06-19T05:22:06.166880Z",
     "iopub.status.idle": "2024-06-19T05:22:06.179332Z",
     "shell.execute_reply": "2024-06-19T05:22:06.177748Z",
     "shell.execute_reply.started": "2024-06-19T05:22:06.167284Z"
    }
   },
   "outputs": [],
   "source": [
    "# Analyze the following statistical distributions:\n",
    "\n",
    "# Determine the distribution of the passenger ages and visualize it using a histogram and a kerneldensity plot.\n",
    "# Determine the distribution of the fares paid by passengers and visualize it using a histogram and akernel density plot."
   ]
  },
  {
   "cell_type": "code",
   "execution_count": 17,
   "metadata": {
    "execution": {
     "iopub.execute_input": "2024-06-19T05:22:06.181838Z",
     "iopub.status.busy": "2024-06-19T05:22:06.181328Z",
     "iopub.status.idle": "2024-06-19T05:22:06.757351Z",
     "shell.execute_reply": "2024-06-19T05:22:06.756055Z",
     "shell.execute_reply.started": "2024-06-19T05:22:06.181791Z"
    }
   },
   "outputs": [
    {
     "name": "stderr",
     "output_type": "stream",
     "text": [
      "/opt/conda/lib/python3.10/site-packages/seaborn/_oldcore.py:1119: FutureWarning: use_inf_as_na option is deprecated and will be removed in a future version. Convert inf values to NaN before operating instead.\n",
      "  with pd.option_context('mode.use_inf_as_na', True):\n"
     ]
    },
    {
     "data": {
      "text/plain": [
       "<matplotlib.legend.Legend at 0x7c3e5b999060>"
      ]
     },
     "execution_count": 17,
     "metadata": {},
     "output_type": "execute_result"
    },
    {
     "data": {
      "image/png": "[encoded data removed]",
      "text/plain": [
       "<Figure size 1000x500 with 1 Axes>"
      ]
     },
     "metadata": {},
     "output_type": "display_data"
    }
   ],
   "source": [
    "# Determine the distribution of the passenger ages and visualize it using a histogram and a kernel density plot.\n",
    "plt.figure(figsize=(10,5))\n",
    "plt.hist(\n",
    "    df['Age'],\n",
    "    bins=int(np.sqrt(len(df['Age']))),\n",
    "    range=None,\n",
    "    density=True,\n",
    "    weights=None,\n",
    "    cumulative=False,\n",
    "    bottom=None,\n",
    "    histtype='bar',\n",
    "    align='mid',\n",
    "    orientation='vertical',\n",
    "    rwidth=None,\n",
    "    log=False,\n",
    "    color=None,\n",
    "    label=None,\n",
    "    stacked=False,\n",
    ")\n",
    "sns.kdeplot(\n",
    "    data=df['Age'],\n",
    "    hue=None,\n",
    "    weights=None,\n",
    "    palette=None,\n",
    "    hue_order=None,\n",
    "    hue_norm=None,\n",
    "    color='Red',\n",
    "    fill=True,\n",
    "    multiple='layer',\n",
    "    common_norm=True,\n",
    "    common_grid=True,\n",
    "    cumulative=False,\n",
    "    bw_method='scott',\n",
    "    bw_adjust=1,\n",
    "    warn_singular=True,\n",
    "    log_scale=None,\n",
    "    levels=10,\n",
    "    thresh=0.05,\n",
    "    gridsize=200,\n",
    "    cut=3,\n",
    "    clip=None,\n",
    "    legend=True,\n",
    "    cbar=False,\n",
    "    cbar_ax=None,\n",
    "    cbar_kws=None,\n",
    "    ax=None,\n",
    ")\n",
    "\n",
    "plt.xlabel('Age')\n",
    "plt.ylabel('Density')\n",
    "plt.title('Distribution of Passenger Ages')\n",
    "plt.legend()"
   ]
  },
  {
   "cell_type": "code",
   "execution_count": 18,
   "metadata": {
    "execution": {
     "iopub.execute_input": "2024-06-19T05:22:06.759356Z",
     "iopub.status.busy": "2024-06-19T05:22:06.758987Z",
     "iopub.status.idle": "2024-06-19T05:22:07.267321Z",
     "shell.execute_reply": "2024-06-19T05:22:07.266124Z",
     "shell.execute_reply.started": "2024-06-19T05:22:06.759325Z"
    }
   },
   "outputs": [
    {
     "name": "stderr",
     "output_type": "stream",
     "text": [
      "/opt/conda/lib/python3.10/site-packages/seaborn/_oldcore.py:1119: FutureWarning: use_inf_as_na option is deprecated and will be removed in a future version. Convert inf values to NaN before operating instead.\n",
      "  with pd.option_context('mode.use_inf_as_na', True):\n"
     ]
    },
    {
     "data": {
      "text/plain": [
       "<matplotlib.legend.Legend at 0x7c3e5b7bc5e0>"
      ]
     },
     "execution_count": 18,
     "metadata": {},
     "output_type": "execute_result"
    },
    {
     "data": {
      "image/png": "[encoded data removed]",
      "text/plain": [
       "<Figure size 1000x500 with 1 Axes>"
      ]
     },
     "metadata": {},
     "output_type": "display_data"
    }
   ],
   "source": [
    "# Determine the distribution of the fares paid by passengers and visualize it using a histogram and akernel density plot.\n",
    "plt.figure(figsize=(10,5))\n",
    "plt.hist(\n",
    "    df['Fare'],\n",
    "    bins=int(np.sqrt(len(df['Fare']))),\n",
    "    range=None,\n",
    "    density=True,\n",
    "    weights=None,\n",
    "    cumulative=False,\n",
    "    bottom=None,\n",
    "    histtype='bar',\n",
    "    align='mid',\n",
    "    orientation='vertical',\n",
    "    rwidth=None,\n",
    "    log=False,\n",
    "    color=None,\n",
    "    label=None,\n",
    "    stacked=False,\n",
    ")\n",
    "sns.kdeplot(\n",
    "    data=df['Fare'],\n",
    "    hue=None,\n",
    "    weights=None,\n",
    "    palette=None,\n",
    "    hue_order=None,\n",
    "    hue_norm=None,\n",
    "    color='Red',\n",
    "    fill=True,\n",
    "    multiple='layer',\n",
    "    common_norm=True,\n",
    "    common_grid=True,\n",
    "    cumulative=False,\n",
    "    bw_method='silverman',\n",
    "    bw_adjust=1,\n",
    "    warn_singular=True,\n",
    "    log_scale=None,\n",
    "    levels=10,\n",
    "    thresh=0.05,\n",
    "    gridsize=200,\n",
    "    cut=3,\n",
    "    clip=None,\n",
    "    legend=True,\n",
    "    cbar=False,\n",
    "    cbar_ax=None,\n",
    "    cbar_kws=None,\n",
    "    ax=None,\n",
    ")\n",
    "\n",
    "plt.xlabel('Fare')\n",
    "plt.ylabel('Density')\n",
    "plt.title('distribution of the fares paid by passengers')\n",
    "plt.legend()"
   ]
  },
  {
   "cell_type": "code",
   "execution_count": null,
   "metadata": {},
   "outputs": [],
   "source": []
  },
  {
   "cell_type": "markdown",
   "metadata": {},
   "source": [
    "## Task 4"
   ]
  },
  {
   "cell_type": "code",
   "execution_count": 19,
   "metadata": {
    "execution": {
     "iopub.execute_input": "2024-06-19T05:22:07.269320Z",
     "iopub.status.busy": "2024-06-19T05:22:07.268876Z",
     "iopub.status.idle": "2024-06-19T05:22:07.275183Z",
     "shell.execute_reply": "2024-06-19T05:22:07.273933Z",
     "shell.execute_reply.started": "2024-06-19T05:22:07.269273Z"
    }
   },
   "outputs": [],
   "source": [
    "# Perform statistical transformations on the data:\n",
    "\n",
    "# Apply logarithmic transformation to the fare data\n",
    "# and visualize the transformed distribution using a\n",
    "# histogram and a kernel density plot.\n",
    "\n",
    "# Apply square root transformation to the age data\n",
    "# and visualize the transformed distribution using a\n",
    "# histogram and a kernel density plot"
   ]
  },
  {
   "cell_type": "code",
   "execution_count": 20,
   "metadata": {
    "execution": {
     "iopub.execute_input": "2024-06-19T05:22:07.277039Z",
     "iopub.status.busy": "2024-06-19T05:22:07.276694Z",
     "iopub.status.idle": "2024-06-19T05:22:07.765674Z",
     "shell.execute_reply": "2024-06-19T05:22:07.764338Z",
     "shell.execute_reply.started": "2024-06-19T05:22:07.277010Z"
    }
   },
   "outputs": [
    {
     "name": "stderr",
     "output_type": "stream",
     "text": [
      "/opt/conda/lib/python3.10/site-packages/pandas/core/arraylike.py:399: RuntimeWarning: divide by zero encountered in log\n",
      "  result = getattr(ufunc, method)(*inputs, **kwargs)\n",
      "/opt/conda/lib/python3.10/site-packages/seaborn/_oldcore.py:1119: FutureWarning: use_inf_as_na option is deprecated and will be removed in a future version. Convert inf values to NaN before operating instead.\n",
      "  with pd.option_context('mode.use_inf_as_na', True):\n"
     ]
    },
    {
     "data": {
      "text/plain": [
       "<matplotlib.legend.Legend at 0x7c3e5965e230>"
      ]
     },
     "execution_count": 20,
     "metadata": {},
     "output_type": "execute_result"
    },
    {
     "data": {
      "image/png": "[encoded data removed]",
      "text/plain": [
       "<Figure size 640x480 with 1 Axes>"
      ]
     },
     "metadata": {},
     "output_type": "display_data"
    }
   ],
   "source": [
    "# Apply logarithmic transformation to the fare data\n",
    "# and visualize the transformed distribution using a\n",
    "# histogram and a kernel density plot.\n",
    "\n",
    "log_fare = np.log(df['Fare'])\n",
    "log_fare = log_fare[log_fare>0]\n",
    "\n",
    "plt.hist(\n",
    "    log_fare,\n",
    "    bins=int(np.sqrt(len(log_fare))),\n",
    "    range=None,\n",
    "    density=True,\n",
    "    weights=None,\n",
    "    cumulative=False,\n",
    "    bottom=None,\n",
    "    histtype='bar',\n",
    "    align='mid',\n",
    "    orientation='vertical',\n",
    "    rwidth=None,\n",
    "    log=False,\n",
    "    color=None,\n",
    "    label=None,\n",
    "    stacked=False,\n",
    ")\n",
    "sns.kdeplot(\n",
    "    data=log_fare,\n",
    "    hue=None,\n",
    "    weights=None,\n",
    "    palette=None,\n",
    "    hue_order=None,\n",
    "    hue_norm=None,\n",
    "    color='Red',\n",
    "    fill=True,\n",
    "    multiple='layer',\n",
    "    common_norm=True,\n",
    "    common_grid=True,\n",
    "    cumulative=False,\n",
    "    bw_method='silverman',\n",
    "    bw_adjust=1,\n",
    "    warn_singular=True,\n",
    "    log_scale=None,\n",
    "    levels=10,\n",
    "    thresh=0.05,\n",
    "    gridsize=200,\n",
    "    cut=3,\n",
    "    clip=None,\n",
    "    legend=True,\n",
    "    cbar=False,\n",
    "    cbar_ax=None,\n",
    "    cbar_kws=None,\n",
    "    ax=None,\n",
    ")\n",
    "\n",
    "plt.xlabel('log(Fare)')\n",
    "plt.ylabel('Density')\n",
    "plt.title('distribution of the logarithmic transformation of the fare data')\n",
    "plt.legend()\n"
   ]
  },
  {
   "cell_type": "code",
   "execution_count": 21,
   "metadata": {
    "execution": {
     "iopub.execute_input": "2024-06-19T05:22:07.767972Z",
     "iopub.status.busy": "2024-06-19T05:22:07.767483Z",
     "iopub.status.idle": "2024-06-19T05:22:08.255213Z",
     "shell.execute_reply": "2024-06-19T05:22:08.253969Z",
     "shell.execute_reply.started": "2024-06-19T05:22:07.767928Z"
    }
   },
   "outputs": [
    {
     "name": "stderr",
     "output_type": "stream",
     "text": [
      "/tmp/ipykernel_33/2867368794.py:24: UserWarning: Ignoring `palette` because no `hue` variable has been assigned.\n",
      "  sns.kdeplot(\n",
      "/opt/conda/lib/python3.10/site-packages/seaborn/_oldcore.py:1119: FutureWarning: use_inf_as_na option is deprecated and will be removed in a future version. Convert inf values to NaN before operating instead.\n",
      "  with pd.option_context('mode.use_inf_as_na', True):\n"
     ]
    },
    {
     "data": {
      "text/plain": [
       "<matplotlib.legend.Legend at 0x7c3e596f89a0>"
      ]
     },
     "execution_count": 21,
     "metadata": {},
     "output_type": "execute_result"
    },
    {
     "data": {
      "image/png": "[encoded data removed]",
      "text/plain": [
       "<Figure size 640x480 with 1 Axes>"
      ]
     },
     "metadata": {},
     "output_type": "display_data"
    }
   ],
   "source": [
    "# Apply square root transformation to the age data\n",
    "# and visualize the transformed distribution using a\n",
    "# histogram and a kernel density plot\n",
    "\n",
    "sqroot_fare = np.sqrt(df['Fare'])\n",
    "\n",
    "plt.hist(\n",
    "    sqroot_fare,\n",
    "    bins=int(np.sqrt(len(sqroot_fare))),\n",
    "    range=None,\n",
    "    density=True,\n",
    "    weights=None,\n",
    "    cumulative=False,\n",
    "    bottom=None,\n",
    "    histtype='bar',\n",
    "    align='mid',\n",
    "    orientation='vertical',\n",
    "    rwidth=None,\n",
    "    log=False,\n",
    "    color=None,\n",
    "    label=None,\n",
    "    stacked=False,\n",
    ")\n",
    "sns.kdeplot(\n",
    "    data=sqroot_fare,\n",
    "    hue=None,\n",
    "    weights=None,\n",
    "    palette='viridis',\n",
    "    hue_order=None,\n",
    "    hue_norm=None,\n",
    "    color='Red',\n",
    "    fill=True,\n",
    "    multiple='layer',\n",
    "    common_norm=True,\n",
    "    common_grid=True,\n",
    "    cumulative=False,\n",
    "    bw_method='silverman',\n",
    "    bw_adjust=1,\n",
    "    warn_singular=True,\n",
    "    log_scale=None,\n",
    "    levels=10,\n",
    "    thresh=0.05,\n",
    "    gridsize=200,\n",
    "    cut=3,\n",
    "    clip=None,\n",
    "    legend=True,\n",
    "    cbar=False,\n",
    "    cbar_ax=None,\n",
    "    cbar_kws=None,\n",
    "    ax=None,\n",
    ")\n",
    "\n",
    "plt.xlabel('sqrt(Fare)')\n",
    "plt.ylabel('Density')\n",
    "plt.title('distribution of the square root transformation of the fare data')\n",
    "plt.legend()"
   ]
  },
  {
   "cell_type": "code",
   "execution_count": null,
   "metadata": {},
   "outputs": [],
   "source": []
  },
  {
   "cell_type": "markdown",
   "metadata": {
    "execution": {
     "iopub.execute_input": "2024-06-17T08:31:51.458961Z",
     "iopub.status.busy": "2024-06-17T08:31:51.458591Z",
     "iopub.status.idle": "2024-06-17T08:31:51.463463Z",
     "shell.execute_reply": "2024-06-17T08:31:51.462462Z",
     "shell.execute_reply.started": "2024-06-17T08:31:51.458931Z"
    }
   },
   "source": [
    "# Task 5"
   ]
  },
  {
   "cell_type": "code",
   "execution_count": 22,
   "metadata": {
    "execution": {
     "iopub.execute_input": "2024-06-19T05:22:08.257419Z",
     "iopub.status.busy": "2024-06-19T05:22:08.256957Z",
     "iopub.status.idle": "2024-06-19T05:22:08.263573Z",
     "shell.execute_reply": "2024-06-19T05:22:08.262191Z",
     "shell.execute_reply.started": "2024-06-19T05:22:08.257377Z"
    }
   },
   "outputs": [],
   "source": [
    "# Perform Statistical sampling and calculate confidence\n",
    "# intervals:\n",
    "\n",
    "# a. Randomly sample 200 passengers' ages from the\n",
    "# dataset and calculate the 95% confidence interval for\n",
    "# the population mean age.\n",
    "\n",
    "# b. Repeat step a multiple times (e.g., 1000 times) and\n",
    "# calculate the confidence intervals each time.\n",
    "\n",
    "# c. Calculate the proportion of confidence intervals\n",
    "# that contain the true population mean."
   ]
  },
  {
   "cell_type": "code",
   "execution_count": 23,
   "metadata": {
    "execution": {
     "iopub.execute_input": "2024-06-19T05:22:08.265490Z",
     "iopub.status.busy": "2024-06-19T05:22:08.265138Z",
     "iopub.status.idle": "2024-06-19T05:22:08.283678Z",
     "shell.execute_reply": "2024-06-19T05:22:08.282376Z",
     "shell.execute_reply.started": "2024-06-19T05:22:08.265461Z"
    }
   },
   "outputs": [
    {
     "data": {
      "text/plain": [
       "(28.145661282601434, 32.272638717398564)"
      ]
     },
     "execution_count": 23,
     "metadata": {},
     "output_type": "execute_result"
    }
   ],
   "source": [
    "# a. Randomly sample 200 passengers' ages from the\n",
    "# dataset and calculate the 95% confidence interval for\n",
    "# the population mean age.\n",
    "\n",
    "sample_size = 200\n",
    "sample_passanger_age = np.random.choice(df['Age'].dropna(),size=sample_size,replace = False)\n",
    "sample_mean = np.mean(sample_passanger_age)\n",
    "\n",
    "sample_std = np.std(sample_passanger_age,ddof=1)\n",
    "\n",
    "z_critical = stats.norm.ppf(0.975) # 0.975 for 95% confidence level, two-tailed\n",
    "\n",
    "standard_error = sample_std/ np.sqrt(sample_size)\n",
    "\n",
    "confidence_interval = ((sample_mean - z_critical*standard_error),(sample_mean + z_critical*standard_error))\n",
    "confidence_interval"
   ]
  },
  {
   "cell_type": "code",
   "execution_count": 24,
   "metadata": {
    "execution": {
     "iopub.execute_input": "2024-06-19T05:22:08.285483Z",
     "iopub.status.busy": "2024-06-19T05:22:08.285127Z",
     "iopub.status.idle": "2024-06-19T05:22:08.884296Z",
     "shell.execute_reply": "2024-06-19T05:22:08.882916Z",
     "shell.execute_reply.started": "2024-06-19T05:22:08.285453Z"
    }
   },
   "outputs": [
    {
     "name": "stdout",
     "output_type": "stream",
     "text": [
      "1 (28.609789308949175, 32.59021069105083)\n",
      "2 (27.920187241428007, 31.561512758571997)\n",
      "3 (29.014251272361328, 33.109948727638674)\n",
      "4 (26.824110228893957, 30.93758977110604)\n",
      "5 (26.2453433493244, 30.304656650675597)\n",
      "6 (28.062349257411075, 32.261850742588926)\n",
      "7 (27.447698956807624, 31.693201043192378)\n",
      "8 (27.48440494085015, 31.503095059149846)\n",
      "9 (28.819987443301024, 32.98831255669898)\n",
      "10 (28.148161964726384, 32.22773803527362)\n",
      "11 (27.30904037179329, 31.094359628206714)\n",
      "12 (28.319443209419223, 32.19055679058077)\n",
      "13 (27.8502636874476, 31.8730363125524)\n",
      "14 (27.338091741862886, 31.215308258137117)\n",
      "15 (26.3291645749079, 30.3058354250921)\n",
      "16 (27.804042013740244, 32.06095798625976)\n",
      "17 (27.777145723280544, 32.02955427671946)\n",
      "18 (27.536339990857567, 31.897860009142438)\n",
      "19 (26.877493903777193, 30.687506096222805)\n",
      "20 (27.63986935085866, 31.79103064914134)\n",
      "21 (27.935464923089068, 32.089535076910934)\n",
      "22 (27.041043202751002, 30.758956797248995)\n",
      "23 (27.16193440124691, 31.285565598753088)\n",
      "24 (26.892931859479898, 30.3820681405201)\n",
      "25 (27.01570456081805, 31.473495439181953)\n",
      "26 (28.85858885311619, 32.89801114688381)\n",
      "27 (29.241928471737197, 33.342271528262806)\n",
      "28 (27.322243521270796, 31.452756478729203)\n",
      "29 (28.201192233141217, 32.31130776685879)\n",
      "30 (27.137494808904762, 31.513305191095235)\n",
      "31 (28.115150307779523, 32.38064969222048)\n",
      "32 (26.916379347886352, 31.007820652113647)\n",
      "33 (28.75921063167227, 32.92328936832772)\n",
      "34 (28.83713092265222, 32.71616907734778)\n",
      "35 (28.302384314837834, 32.26931568516216)\n",
      "36 (27.149199088647386, 31.058300911352617)\n",
      "37 (28.677181281615066, 32.81451871838493)\n",
      "38 (30.00670114751712, 33.96659885248288)\n",
      "39 (27.325460395405532, 31.027839604594465)\n",
      "40 (27.78896173803121, 31.72603826196879)\n",
      "41 (26.5979220768315, 30.5979779231685)\n",
      "42 (28.03234873436771, 32.06515126563229)\n",
      "43 (28.16972859556601, 32.23277140443399)\n",
      "44 (27.746214705079947, 31.308785294920053)\n",
      "45 (26.84396324963513, 31.01603675036487)\n",
      "46 (27.215705228923433, 31.11099477107657)\n",
      "47 (28.067042608318033, 32.11965739168197)\n",
      "48 (27.54439962690992, 31.80560037309008)\n",
      "49 (27.96005640148264, 31.802443598517364)\n",
      "50 (28.377002743056394, 32.16969725694361)\n",
      "51 (27.183300893912715, 31.155899106087283)\n",
      "52 (26.88722304559356, 30.660276954406438)\n",
      "53 (26.723720318575857, 30.494579681424142)\n",
      "54 (27.584110050495422, 31.370889949504576)\n",
      "55 (27.305523025269107, 31.20447697473089)\n",
      "56 (27.152104180378593, 31.34539581962141)\n",
      "57 (27.125966208927927, 31.276533791072076)\n",
      "58 (26.75998204524345, 30.900017954756546)\n",
      "59 (27.430579243485603, 31.4036207565144)\n",
      "60 (28.73754166891819, 32.797458331081806)\n",
      "61 (26.845030871606564, 31.000069128393438)\n",
      "62 (27.326873680180988, 31.36312631981901)\n",
      "63 (28.25525002227286, 32.11894997772714)\n",
      "64 (26.352573344296474, 30.17082665570353)\n",
      "65 (26.11169482243438, 30.11750517756562)\n",
      "66 (26.86702794522766, 30.85387205477234)\n",
      "67 (27.90194688400035, 31.988153115999655)\n",
      "68 (27.253126047623812, 31.076073952376188)\n",
      "69 (28.522148947372763, 32.28285105262724)\n",
      "70 (29.403683031621924, 33.623016968378074)\n",
      "71 (28.76782870440726, 32.659671295592744)\n",
      "72 (28.93418085932137, 33.00581914067863)\n",
      "73 (26.62154467769186, 30.70845532230814)\n",
      "74 (27.041489635821737, 30.935210364178264)\n",
      "75 (27.481745147160126, 31.594954852839876)\n",
      "76 (26.722766080483158, 30.712233919516844)\n",
      "77 (26.40306475243181, 30.31863524756819)\n",
      "78 (26.45290825674356, 30.396291743256445)\n",
      "79 (27.997552655802156, 32.209147344197845)\n",
      "80 (27.417932651006765, 30.888767348993234)\n",
      "81 (27.76010690610348, 32.157393093896516)\n",
      "82 (28.33264859285779, 32.38405140714221)\n",
      "83 (26.723197797923735, 30.89850220207627)\n",
      "84 (28.363443606810513, 32.56985639318949)\n",
      "85 (29.40970785259617, 33.41119214740383)\n",
      "86 (27.053638538337555, 31.243061461662446)\n",
      "87 (27.183851293539004, 31.445348706460994)\n",
      "88 (27.96374606897041, 31.831253931029593)\n",
      "89 (27.486907933762218, 31.41479206623778)\n",
      "90 (26.786122789852875, 30.946377210147126)\n",
      "91 (27.87532067855797, 31.816379321442028)\n",
      "92 (27.672814036391863, 31.806385963608136)\n",
      "93 (26.065476906481717, 29.995423093518287)\n",
      "94 (27.183824405066613, 30.983675594933384)\n",
      "95 (27.591663585843644, 31.755836414156352)\n",
      "96 (26.014470843101872, 29.668029156898125)\n",
      "97 (27.50216649837633, 31.362833501623673)\n",
      "98 (26.913733871744878, 30.754566128255124)\n",
      "99 (28.65767706809694, 32.694022931903056)\n",
      "100 (29.394593299051927, 33.656206700948076)\n",
      "101 (28.309542101635788, 32.19215789836421)\n",
      "102 (27.868657793814712, 32.01384220618529)\n",
      "103 (27.08387487305236, 30.804425126947642)\n",
      "104 (27.846212683827623, 31.812187316172377)\n",
      "105 (28.310660705644047, 32.351839294355955)\n",
      "106 (26.318123685090832, 30.373576314909165)\n",
      "107 (26.791558479736857, 30.933441520263145)\n",
      "108 (27.662218126050714, 31.195281873949288)\n",
      "109 (29.225178921506835, 33.32152107849317)\n",
      "110 (28.63995023774727, 32.51504976225273)\n",
      "111 (28.31057324312366, 32.15772675687634)\n",
      "112 (26.329965823439878, 29.830834176560124)\n",
      "113 (27.775557770406813, 31.904442229593187)\n",
      "114 (26.845314903668694, 30.887185096331308)\n",
      "115 (26.176496208701387, 30.191003791298613)\n",
      "116 (26.347316653599698, 30.315183346400303)\n",
      "117 (28.89643850674882, 32.97516149325118)\n",
      "118 (27.655542482981787, 31.680357517018216)\n",
      "119 (27.180622020015935, 30.894377979984068)\n",
      "120 (25.977744079042157, 29.68975592095784)\n",
      "121 (27.8280444306803, 32.0161555693197)\n",
      "122 (28.474900444720152, 32.515999555279855)\n",
      "123 (26.23895901598422, 30.021040984015777)\n",
      "124 (27.848734654911624, 31.588765345088376)\n",
      "125 (27.061100585168628, 30.697299414831374)\n",
      "126 (26.847726476768578, 30.652273523231422)\n",
      "127 (28.088777781969885, 32.10622221803011)\n",
      "128 (28.009252676192745, 32.03904732380725)\n",
      "129 (26.976314070479965, 30.956185929520032)\n",
      "130 (28.10929527696825, 31.94570472303175)\n",
      "131 (25.875111173414616, 30.053288826585387)\n",
      "132 (26.733582598644226, 30.783117401355774)\n",
      "133 (26.78146684254592, 30.86113315745408)\n",
      "134 (27.2613222693841, 31.2028777306159)\n",
      "135 (28.1245156287579, 31.972984371242095)\n",
      "136 (27.835229546793197, 32.1647704532068)\n",
      "137 (26.684567599272917, 30.772932400727086)\n",
      "138 (27.112538775286943, 31.35326122471306)\n",
      "139 (28.364945034245928, 32.178354965754075)\n",
      "140 (27.979593454067086, 31.876206545932916)\n",
      "141 (29.125472754656176, 32.969527245343826)\n",
      "142 (28.280972635305123, 32.34562736469488)\n",
      "143 (28.789835561509165, 32.80766443849083)\n",
      "144 (28.135781279694626, 32.07921872030538)\n",
      "145 (26.756613155321347, 31.169986844678654)\n",
      "146 (27.891112739052257, 31.98638726094774)\n",
      "147 (26.700016275092786, 30.832483724907213)\n",
      "148 (27.106545419723023, 30.897654580276974)\n",
      "149 (28.50105415289051, 32.58644584710949)\n",
      "150 (27.647317613685267, 32.17688238631473)\n",
      "151 (27.770291037468876, 31.893008962531123)\n",
      "152 (27.69483161565073, 31.91266838434927)\n",
      "153 (28.46058076905217, 32.45611923094783)\n",
      "154 (28.542285652094474, 32.51521434790552)\n",
      "155 (29.68143819238015, 33.31356180761985)\n",
      "156 (27.40187891883544, 31.559021081164563)\n",
      "157 (28.10698024521779, 32.20301975478221)\n",
      "158 (28.22525457126832, 32.084745428731686)\n",
      "159 (26.511335406696233, 30.373664593303765)\n",
      "160 (28.371097300672343, 32.493902699327656)\n",
      "161 (27.005790648899584, 30.980909351100415)\n",
      "162 (28.794561514136188, 32.96123848586381)\n",
      "163 (28.836788547679923, 32.643211452320074)\n",
      "164 (26.53108131709188, 30.85391868290812)\n",
      "165 (28.014185558240015, 31.860814441759985)\n",
      "166 (28.001939173638466, 32.22396082636154)\n",
      "167 (28.537762193517924, 32.88553780648208)\n",
      "168 (26.20763061547641, 30.05156938452359)\n",
      "169 (27.915219712873412, 31.842280287126588)\n",
      "170 (27.914261705764662, 32.11663829423534)\n",
      "171 (27.662189754349455, 31.820310245650546)\n",
      "172 (26.298719028018596, 30.103880971981404)\n",
      "173 (27.506161220115413, 31.36053877988459)\n",
      "174 (26.429829084832875, 30.485170915167124)\n",
      "175 (26.130332626883693, 29.857167373116305)\n",
      "176 (28.198656611552703, 32.3621433884473)\n",
      "177 (26.914458345636902, 30.9663416543631)\n",
      "178 (28.11293382594293, 32.13126617405707)\n",
      "179 (27.663087986251284, 31.59021201374871)\n",
      "180 (28.542408650499063, 32.71429134950094)\n",
      "181 (26.87589851909288, 30.98410148090712)\n",
      "182 (29.106358107128084, 33.19784189287192)\n",
      "183 (27.60730431105981, 31.53269568894019)\n",
      "184 (27.370906672221384, 31.333293327778616)\n",
      "185 (26.866294448411427, 30.827005551588574)\n",
      "186 (28.563443426398784, 32.88075657360122)\n",
      "187 (28.52696701277361, 32.57473298722639)\n",
      "188 (25.98924506685223, 29.818254933147767)\n",
      "189 (26.644590849227708, 30.548709150772293)\n",
      "190 (27.22576574761548, 30.831734252384518)\n",
      "191 (28.207952307173713, 32.25874769282629)\n",
      "192 (28.969790999222635, 33.004409000777365)\n",
      "193 (29.540327286742443, 33.56967271325756)\n",
      "194 (27.44285410231813, 31.45714589768187)\n",
      "195 (27.354648180270356, 31.46955181972964)\n",
      "196 (29.421172513560567, 33.26712748643943)\n",
      "197 (27.8072848229126, 31.885215177087403)\n",
      "198 (27.716518256824855, 31.620981743175143)\n",
      "199 (27.392121914551588, 31.67117808544841)\n",
      "200 (27.775462234672382, 32.11283776532762)\n",
      "201 (27.505223487427923, 31.879776512572075)\n",
      "202 (27.25915878532094, 31.11664121467906)\n",
      "203 (28.145591980918628, 32.18690801908138)\n",
      "204 (26.484035371723227, 30.592564628276772)\n",
      "205 (27.03693374914925, 30.873066250850748)\n",
      "206 (28.889400179472176, 32.64899982052783)\n",
      "207 (27.872836484946372, 31.93306351505363)\n",
      "208 (27.74239163794931, 32.02760836205069)\n",
      "209 (28.979217708137952, 33.038282291862046)\n",
      "210 (27.64915794947772, 31.855842050522284)\n",
      "211 (27.781271894521726, 31.914528105478272)\n",
      "212 (27.546232272635933, 31.711267727364067)\n",
      "213 (28.3057351408418, 32.3425648591582)\n",
      "214 (28.14406176234998, 32.09343823765002)\n",
      "215 (28.06370203770482, 32.23379796229518)\n",
      "216 (27.907417050275082, 31.830082949724915)\n",
      "217 (26.992559744425275, 30.769940255574728)\n",
      "218 (27.82865676843837, 31.82144323156163)\n",
      "219 (27.379313193663496, 31.353186806336506)\n",
      "220 (27.22066094221295, 31.46433905778705)\n",
      "221 (28.382989447849283, 32.06201055215072)\n",
      "222 (27.840107678606056, 31.669092321393943)\n",
      "223 (27.43326937152323, 31.592530628476766)\n",
      "224 (26.09511062414284, 30.38818937585716)\n",
      "225 (27.565914335233913, 31.72078566476609)\n",
      "226 (24.78611137529979, 28.601388624700213)\n",
      "227 (26.192696435938295, 30.183203564061706)\n",
      "228 (27.01026602566274, 31.16723397433726)\n",
      "229 (27.669560228748697, 31.8738397712513)\n",
      "230 (26.906545395050284, 30.917654604949714)\n",
      "231 (28.3545965958044, 32.128703404195605)\n",
      "232 (26.411843306849196, 30.457356693150803)\n",
      "233 (28.486801694335423, 32.40319830566458)\n",
      "234 (26.632624156620626, 30.509075843379375)\n",
      "235 (28.33504724757249, 32.55665275242751)\n",
      "236 (26.879683703336926, 30.743616296663074)\n",
      "237 (27.250123597568603, 31.101576402431398)\n",
      "238 (26.515526740208593, 30.22617325979141)\n",
      "239 (27.48450250738003, 31.65969749261997)\n",
      "240 (27.17359837794613, 31.573101622053873)\n",
      "241 (28.184761012079353, 32.28103898792065)\n",
      "242 (26.980273056744828, 30.87392694325517)\n",
      "243 (28.58747960684658, 32.45422039315342)\n",
      "244 (26.5110047865868, 30.604095213413206)\n",
      "245 (27.58332786968551, 31.746672130314487)\n",
      "246 (27.41918709193758, 31.22661290806242)\n",
      "247 (29.11159193594375, 33.33340806405625)\n",
      "248 (28.236227252453222, 32.41457274754677)\n",
      "249 (28.31331478461529, 32.350885215384714)\n",
      "250 (28.28046603561392, 32.44203396438608)\n",
      "251 (27.87149294334003, 31.97850705665997)\n",
      "252 (27.723772613371153, 31.677927386628845)\n",
      "253 (26.29706181597507, 30.37463818402493)\n",
      "254 (29.075469598220096, 33.4129304017799)\n",
      "255 (28.441817841293464, 32.70898215870653)\n",
      "256 (27.92598712964629, 31.83241287035371)\n",
      "257 (26.913120333614877, 31.23687966638512)\n",
      "258 (27.380675156344495, 31.298524843655507)\n",
      "259 (27.02434438315117, 30.91895561684883)\n",
      "260 (29.213880820867033, 33.24361917913297)\n",
      "261 (27.29996781428462, 31.02173218571538)\n",
      "262 (27.323732314725817, 31.502167685274188)\n",
      "263 (26.77349538378061, 30.93990461621939)\n",
      "264 (27.836927466834634, 31.989772533165368)\n",
      "265 (28.938318354508414, 33.12588164549159)\n",
      "266 (26.99772252676326, 30.868077473236742)\n",
      "267 (26.92874595471599, 30.93035404528401)\n",
      "268 (28.223067329787852, 32.22693267021215)\n",
      "269 (27.912708834231243, 31.858891165768757)\n",
      "270 (27.120810969707076, 31.012489030292922)\n",
      "271 (28.702639034892943, 32.774060965107054)\n",
      "272 (27.87617571737909, 31.632124282620907)\n",
      "273 (27.501402252144732, 31.60029774785527)\n",
      "274 (29.28427765096078, 33.37162234903922)\n",
      "275 (28.1391922506881, 31.8525077493119)\n",
      "276 (27.484296553206363, 31.386603446793636)\n",
      "277 (27.61018820146178, 31.799011798538217)\n",
      "278 (27.940648408904515, 32.13605159109549)\n",
      "279 (27.439499602737165, 31.224700397262836)\n",
      "280 (27.092688872354355, 31.15401112764565)\n",
      "281 (28.618546982484066, 32.953953017515936)\n",
      "282 (27.072397204056454, 30.821802795943544)\n",
      "283 (28.47356266462838, 32.76143733537162)\n",
      "284 (29.830369821666874, 33.93293017833312)\n",
      "285 (27.992291120020433, 32.010208879979565)\n",
      "286 (27.199485550920944, 31.448014449079057)\n",
      "287 (28.644660566182484, 32.50363943381752)\n",
      "288 (27.19654838970728, 31.04345161029272)\n",
      "289 (27.17376806247737, 31.257931937522628)\n",
      "290 (27.326867670701155, 31.414832329298847)\n",
      "291 (26.74647377564135, 30.91272622435865)\n",
      "292 (26.95104725603238, 31.26225274396762)\n",
      "293 (26.820270642645447, 30.740529357354553)\n",
      "294 (27.45449584386958, 31.165504156130417)\n",
      "295 (27.020458387126734, 31.020441612873267)\n",
      "296 (27.628401148373083, 31.759898851626918)\n",
      "297 (27.617794969101613, 31.790605030898387)\n",
      "298 (27.207145454678905, 31.434554545321095)\n",
      "299 (27.91962517008999, 31.971974829910007)\n",
      "300 (27.063460843560527, 30.932339156439475)\n",
      "301 (27.982843396295678, 31.815556603704323)\n",
      "302 (27.375593249734298, 31.514406750265703)\n",
      "303 (28.42876299448715, 32.32783700551285)\n",
      "304 (26.969312701148155, 30.983187298851846)\n",
      "305 (26.295398704822947, 30.092101295177056)\n",
      "306 (27.043120984766233, 30.818579015233766)\n",
      "307 (26.55372558953681, 30.25127441046319)\n",
      "308 (28.65392118475948, 32.364378815240514)\n",
      "309 (28.212746007670876, 32.14395399232912)\n",
      "310 (27.895946788865835, 32.10325321113417)\n",
      "311 (27.71636785674423, 31.952032143255767)\n",
      "312 (28.99254095172294, 32.95995904827706)\n",
      "313 (27.13370444630198, 31.105495553698024)\n",
      "314 (26.762878095019715, 30.885421904980284)\n",
      "315 (26.638138381047675, 30.403561618952324)\n",
      "316 (28.52457184283555, 32.21042815716445)\n",
      "317 (28.618760714466752, 32.54953928553325)\n",
      "318 (27.220852008597287, 31.160847991402715)\n",
      "319 (27.520975223223978, 31.374824776776023)\n",
      "320 (27.767760871612666, 31.842239128387334)\n",
      "321 (27.48150970941864, 31.68519029058136)\n",
      "322 (26.594438961543144, 30.703061038456855)\n",
      "323 (26.042547737235342, 29.899152262764655)\n",
      "324 (28.83734566475903, 32.71515433524097)\n",
      "325 (28.44319989725889, 32.28270010274111)\n",
      "326 (27.42402829970947, 31.30757170029053)\n",
      "327 (27.53197995439241, 31.615520045607592)\n",
      "328 (27.8383354246485, 32.0649645753515)\n",
      "329 (27.520427825539166, 31.319572174460838)\n",
      "330 (27.296689365646525, 31.208310634353477)\n",
      "331 (29.126976493922744, 33.268823506077254)\n",
      "332 (27.658050410485213, 31.71534958951479)\n",
      "333 (26.793900830599902, 30.530299169400095)\n",
      "334 (28.78918100917666, 32.872518990823345)\n",
      "335 (27.190049545391133, 30.89415045460887)\n",
      "336 (27.060546568268872, 31.076153431731125)\n",
      "337 (29.347996164801543, 33.57950383519846)\n",
      "338 (28.117107133862948, 32.178692866137055)\n",
      "339 (28.049912117925974, 32.02348788207403)\n",
      "340 (26.37347943357601, 30.45072056642399)\n",
      "341 (28.35969928403469, 32.48200071596531)\n",
      "342 (28.842876610944618, 32.79212338905538)\n",
      "343 (27.94634789072698, 32.172852109273016)\n",
      "344 (27.93074702511563, 31.830052974884367)\n",
      "345 (27.5206185026973, 31.550281497302702)\n",
      "346 (27.043043511216382, 31.262756488783616)\n",
      "347 (26.575966601837433, 30.48323339816257)\n",
      "348 (27.371733696120227, 31.59076630387977)\n",
      "349 (27.387132062596045, 31.661167937403953)\n",
      "350 (28.562954492289823, 32.62624550771018)\n",
      "351 (27.479637898454556, 31.475362101545443)\n",
      "352 (27.251026849846, 31.228973150153998)\n",
      "353 (28.800504441184064, 32.909495558815934)\n",
      "354 (26.5329489896737, 30.6495510103263)\n",
      "355 (26.55171097736446, 30.465789022635537)\n",
      "356 (26.75376829878835, 30.76703170121165)\n",
      "357 (27.915526058545524, 31.908673941454474)\n",
      "358 (27.991861794571243, 32.01313820542876)\n",
      "359 (27.384012679572777, 31.365187320427225)\n",
      "360 (27.897457729984716, 31.739242270015282)\n",
      "361 (28.768664405843097, 32.6955355941569)\n",
      "362 (26.070803113238565, 29.701696886761436)\n",
      "363 (27.92569262601768, 32.19100737398232)\n",
      "364 (27.94263109437232, 32.06906890562768)\n",
      "365 (27.588875559897435, 31.30612444010257)\n",
      "366 (28.267612039031455, 32.679087960968545)\n",
      "367 (25.977247924807877, 29.97775207519212)\n",
      "368 (28.054128342253296, 31.985071657746705)\n",
      "369 (25.73388710426147, 29.74281289573853)\n",
      "370 (28.264996028515718, 32.41750397148428)\n",
      "371 (26.871192849148617, 30.848007150851384)\n",
      "372 (28.363380406531846, 32.49911959346815)\n",
      "373 (26.74375735054101, 30.891242649458988)\n",
      "374 (27.110959747634126, 31.153240252365876)\n",
      "375 (27.090176706261513, 31.153123293738485)\n",
      "376 (26.59535719398937, 30.82214280601063)\n",
      "377 (27.785184347279973, 32.014815652720024)\n",
      "378 (27.09903482571432, 30.977665174285683)\n",
      "379 (28.5339034137521, 32.5485965862479)\n",
      "380 (28.346350557873432, 32.329449442126574)\n",
      "381 (28.11455960829649, 32.33794039170351)\n",
      "382 (27.928322357326202, 31.9674776426738)\n",
      "383 (28.632601136617595, 32.446598863382405)\n",
      "384 (28.61451492201623, 32.83878507798377)\n",
      "385 (27.206536260244608, 31.246863739755394)\n",
      "386 (28.625817707986936, 32.72588229201306)\n",
      "387 (27.426569774583324, 31.385130225416678)\n",
      "388 (27.511482560636388, 31.60601743936361)\n",
      "389 (27.515188666793282, 31.594811333206717)\n",
      "390 (27.53610240043568, 31.57969759956432)\n",
      "391 (29.22467261194945, 33.363627388050546)\n",
      "392 (27.74873226801132, 31.710467731988683)\n",
      "393 (27.80498313914986, 31.790016860850137)\n",
      "394 (28.545394544616297, 32.57710545538371)\n",
      "395 (27.628646156617844, 31.570553843382154)\n",
      "396 (26.73689097188733, 30.900609028112672)\n",
      "397 (27.60180909212054, 31.912390907879463)\n",
      "398 (26.474039681369412, 30.465160318630588)\n",
      "399 (28.275505562473366, 32.25619443752664)\n",
      "400 (27.428707640545117, 31.412092359454885)\n",
      "401 (27.702166175546388, 31.939533824453612)\n",
      "402 (27.150238121296887, 31.311461878703113)\n",
      "403 (27.549113628999493, 31.320086371000507)\n",
      "404 (27.852206980508385, 31.817793019491617)\n",
      "405 (28.007585632363167, 32.11821436763683)\n",
      "406 (27.793083634651182, 31.771916365348815)\n",
      "407 (26.99947635636426, 31.03302364363574)\n",
      "408 (27.806677752215307, 31.887522247784695)\n",
      "409 (26.707809153467423, 30.86629084653258)\n",
      "410 (28.26660966347588, 32.20339033652412)\n",
      "411 (27.961421395268538, 32.06107860473146)\n",
      "412 (27.24621890919976, 31.43298109080024)\n",
      "413 (26.867612054796492, 30.90658794520351)\n",
      "414 (27.483090147971268, 32.08360985202873)\n",
      "415 (26.79381153550993, 30.427888464490067)\n",
      "416 (27.544347335502874, 31.595652664497127)\n",
      "417 (29.324116593798607, 33.62088340620139)\n",
      "418 (26.25319634588513, 30.14850365411487)\n",
      "419 (29.000702989355972, 33.229297010644025)\n",
      "420 (29.061528390286554, 33.103471609713445)\n",
      "421 (27.041497827951595, 31.171002172048404)\n",
      "422 (28.253724795713666, 32.057975204286336)\n",
      "423 (29.756127517260207, 33.825572482739794)\n",
      "424 (28.081695538688333, 32.09580446131167)\n",
      "425 (26.701203984768902, 30.6196960152311)\n",
      "426 (28.56463688470802, 32.44866311529198)\n",
      "427 (27.221339391773697, 30.990360608226304)\n",
      "428 (28.830739277997058, 32.65926072200295)\n",
      "429 (26.330533466650298, 30.3969665333497)\n",
      "430 (27.87774662557906, 32.30555337442094)\n",
      "431 (26.346754950910796, 30.425745049089205)\n",
      "432 (27.32937679694014, 31.560623203059862)\n",
      "433 (27.512713081185012, 31.61818691881499)\n",
      "434 (27.1609759791775, 31.374024020822496)\n",
      "435 (27.75411745491003, 31.630882545089968)\n",
      "436 (27.047829651312558, 31.034670348687445)\n",
      "437 (28.141435265436947, 32.36776473456305)\n",
      "438 (27.853317140467205, 32.100882859532796)\n",
      "439 (28.130213674734218, 32.316486325265785)\n",
      "440 (28.765896969420332, 33.21910303057967)\n",
      "441 (27.77681993082102, 31.921480069178976)\n",
      "442 (28.79825685321174, 32.70674314678826)\n",
      "443 (29.032176588008465, 32.92032341199153)\n",
      "444 (27.84328271469893, 31.68671728530107)\n",
      "445 (28.726667642247598, 32.8733323577524)\n",
      "446 (27.877033359388, 31.678866640612)\n",
      "447 (27.899196996936112, 32.016603003063885)\n",
      "448 (27.358173847917907, 31.23012615208209)\n",
      "449 (29.175618917042815, 33.24688108295719)\n",
      "450 (25.684917580714426, 29.310982419285573)\n",
      "451 (28.404334397629484, 32.239865602370514)\n",
      "452 (28.397103703898996, 32.420396296101)\n",
      "453 (27.233103451257147, 31.086096548742855)\n",
      "454 (26.295295620932354, 30.43060437906765)\n",
      "455 (28.592796910751545, 32.753103089248455)\n",
      "456 (26.406643330336436, 30.500056669663564)\n",
      "457 (28.35804733954752, 32.39445266045248)\n",
      "458 (28.392603983336777, 32.48489601666322)\n",
      "459 (26.020829089827373, 29.876670910172628)\n",
      "460 (27.51242305429133, 31.51177694570867)\n",
      "461 (27.798062686634115, 31.995237313365887)\n",
      "462 (26.54046090922326, 30.660439090776745)\n",
      "463 (27.021900581304507, 31.021399418695495)\n",
      "464 (26.79832253135227, 30.81167746864773)\n",
      "465 (27.834033543129287, 31.65926645687071)\n",
      "466 (27.442643135825552, 31.458156864174445)\n",
      "467 (28.05793749347393, 32.23706250652607)\n",
      "468 (28.260327360658835, 32.17297263934117)\n",
      "469 (27.15678680060484, 31.012413199395162)\n",
      "470 (29.03682557677977, 32.944874423220234)\n",
      "471 (27.609341300078984, 31.927258699921016)\n",
      "472 (27.044113790950195, 31.040886209049805)\n",
      "473 (28.100640849173132, 32.32185915082687)\n",
      "474 (26.49553128258568, 30.797868717414318)\n",
      "475 (27.902098207762467, 31.697901792237534)\n",
      "476 (27.620335388311428, 31.57716461168857)\n",
      "477 (27.654734660416935, 31.80276533958307)\n",
      "478 (26.998757873164735, 31.34124212683527)\n",
      "479 (27.27434147415049, 31.33735852584951)\n",
      "480 (28.56561827457351, 32.588581725426494)\n",
      "481 (26.0537474915649, 29.8012525084351)\n",
      "482 (28.157919036476656, 31.987080963523347)\n",
      "483 (28.274291959919463, 32.22160804008054)\n",
      "484 (27.726603235146875, 31.90429676485313)\n",
      "485 (27.527902838423323, 31.44629716157668)\n",
      "486 (27.423520822250744, 31.619879177749254)\n",
      "487 (26.11260581103939, 30.06909418896061)\n",
      "488 (27.651422991196345, 31.607777008803655)\n",
      "489 (27.647592903796763, 31.738307096203236)\n",
      "490 (29.06781793096532, 32.91888206903468)\n",
      "491 (26.52530450165336, 30.379695498346642)\n",
      "492 (29.251801331363165, 33.50909866863683)\n",
      "493 (28.28228954589703, 32.80691045410297)\n",
      "494 (26.45710030312385, 30.57369969687615)\n",
      "495 (27.404132392568336, 31.683367607431663)\n",
      "496 (27.714238679867268, 31.676661320132734)\n",
      "497 (28.13897652878972, 31.91852347121028)\n",
      "498 (28.320877539006545, 32.26912246099346)\n",
      "499 (28.383177530351354, 32.52012246964865)\n",
      "500 (26.940740725918808, 30.94595927408119)\n",
      "501 (27.312211858450464, 31.222788141549533)\n",
      "502 (27.472611268471436, 31.567388731528563)\n",
      "503 (26.402470592694602, 30.3142294073054)\n",
      "504 (28.792989045196755, 33.04041095480325)\n",
      "505 (26.72305711094819, 30.75614288905181)\n",
      "506 (27.84894782979847, 31.674452170201533)\n",
      "507 (28.252814755980427, 32.06638524401958)\n",
      "508 (28.1469435677731, 32.3730564322269)\n",
      "509 (26.900195154770376, 30.96980484522962)\n",
      "510 (27.902413407122843, 32.00258659287716)\n",
      "511 (28.073759407932943, 32.027140592067056)\n",
      "512 (28.134060532112652, 32.08183946788735)\n",
      "513 (27.856057875660067, 32.02974212433993)\n",
      "514 (26.984991521522144, 31.212508478477854)\n",
      "515 (28.010585694439325, 32.24191430556067)\n",
      "516 (27.597783071993895, 32.074716928006104)\n",
      "517 (28.718847181410293, 32.9561528185897)\n",
      "518 (27.373132553720534, 31.66526744627947)\n",
      "519 (27.290812640933908, 31.240087359066095)\n",
      "520 (26.826345729320874, 31.014454270679128)\n",
      "521 (28.36791500906243, 32.536284990937574)\n",
      "522 (26.90302790674169, 31.172872093258313)\n",
      "523 (27.889392462278845, 32.14730753772116)\n",
      "524 (27.885519191251603, 31.748680808748396)\n",
      "525 (27.54164399838551, 31.76255600161449)\n",
      "526 (26.85743130508417, 30.805068694915832)\n",
      "527 (27.55132266818031, 31.274477331819693)\n",
      "528 (26.45307266292861, 30.358627337071393)\n",
      "529 (27.43025473271667, 31.36724526728333)\n",
      "530 (26.947738325372512, 31.100561674627485)\n",
      "531 (28.11820356309314, 32.09009643690686)\n",
      "532 (27.086341814067094, 31.158658185932904)\n",
      "533 (28.259336688604424, 32.21226331139557)\n",
      "534 (28.110945672946187, 32.384854327053816)\n",
      "535 (27.932877484727793, 32.3571225152722)\n",
      "536 (27.893213724825117, 31.82928627517488)\n",
      "537 (26.961056232493778, 31.216443767506224)\n",
      "538 (29.55339476091439, 33.361605239085605)\n",
      "539 (25.944464779193627, 29.923935220806374)\n",
      "540 (28.35875510321399, 32.449544896786016)\n",
      "541 (27.74794127757167, 31.692858722428326)\n",
      "542 (27.387516708063895, 31.179183291936102)\n",
      "543 (28.402927825194364, 32.37037217480563)\n",
      "544 (28.609416730639257, 32.36308326936074)\n",
      "545 (27.256187423966296, 31.434712576033704)\n",
      "546 (27.74252317225277, 31.50747682774723)\n",
      "547 (27.859877036478807, 31.867622963521193)\n",
      "548 (26.715327381377726, 30.943872618622272)\n",
      "549 (27.56343052760372, 31.213269472396277)\n",
      "550 (28.501537777268872, 32.71846222273113)\n",
      "551 (27.5112511118151, 31.6704488881849)\n",
      "552 (27.354451945775864, 31.438048054224133)\n",
      "553 (28.416036127329498, 32.6064638726705)\n",
      "554 (27.93345005756683, 32.02904994243317)\n",
      "555 (25.772437471584716, 29.785162528415285)\n",
      "556 (26.874620109410923, 30.878679890589073)\n",
      "557 (26.227692409704346, 29.899007590295653)\n",
      "558 (29.60376773865427, 34.05043226134573)\n",
      "559 (26.921046085264464, 31.101453914735536)\n",
      "560 (27.019663374277847, 31.099536625722152)\n",
      "561 (27.81041045823596, 31.73538954176404)\n",
      "562 (27.26690548852448, 31.29059451147552)\n",
      "563 (26.26266364533229, 30.08403635466771)\n",
      "564 (27.95606228001754, 31.845637719982463)\n",
      "565 (26.80590830642661, 30.949091693573394)\n",
      "566 (29.31716878406722, 33.45203121593278)\n",
      "567 (27.08388804205349, 31.23031195794651)\n",
      "568 (28.440542377514227, 32.31195762248577)\n",
      "569 (28.15072677108182, 32.16097322891818)\n",
      "570 (28.04092509009586, 31.618274909904137)\n",
      "571 (27.59316044240638, 31.69773955759362)\n",
      "572 (28.037244619128487, 31.875255380871515)\n",
      "573 (29.757732154319662, 33.53146784568034)\n",
      "574 (28.05216888713725, 32.109531112862754)\n",
      "575 (27.048995459480825, 31.241804540519173)\n",
      "576 (28.323727067610246, 32.59287293238975)\n",
      "577 (26.362197491314575, 30.204402508685426)\n",
      "578 (26.973162433485044, 31.012637566514954)\n",
      "579 (27.80105106420811, 31.945648935791894)\n",
      "580 (26.877915102417962, 30.95878489758204)\n",
      "581 (27.317467291802554, 30.915032708197447)\n",
      "582 (26.148590645787973, 30.05230935421203)\n",
      "583 (27.21903661365895, 31.16516338634105)\n",
      "584 (28.48984054189713, 32.64265945810287)\n",
      "585 (28.057319467578026, 32.076880532421974)\n",
      "586 (27.777618349080083, 31.78898165091992)\n",
      "587 (27.52967892639334, 31.952021073606662)\n",
      "588 (29.13394980827056, 33.15105019172944)\n",
      "589 (27.028481154813214, 30.729018845186786)\n",
      "590 (26.61647912592029, 30.66022087407971)\n",
      "591 (26.89772790421763, 30.600572095782372)\n",
      "592 (27.89611193871189, 32.23888806128811)\n",
      "593 (27.251524997920605, 31.172675002079394)\n",
      "594 (27.016125211975957, 31.231374788024045)\n",
      "595 (27.567861305904223, 31.393838694095777)\n",
      "596 (27.7098868313665, 31.685113168633503)\n",
      "597 (26.56607309876401, 30.466426901235987)\n",
      "598 (26.925032835306087, 30.78746716469391)\n",
      "599 (27.73474869795358, 31.77105130204642)\n",
      "600 (27.466062547496318, 31.444737452503684)\n",
      "601 (26.73465847138641, 30.717041528613592)\n",
      "602 (28.875220878210445, 32.877279121789556)\n",
      "603 (29.105466821667356, 32.92953317833264)\n",
      "604 (28.568989281567024, 32.646010718432976)\n",
      "605 (27.623550551255256, 31.745649448744743)\n",
      "606 (27.73576165328125, 31.84673834671875)\n",
      "607 (28.456867756187776, 32.46643224381222)\n",
      "608 (28.15986127310642, 32.053438726893575)\n",
      "609 (27.17363236232589, 31.27966763767411)\n",
      "610 (29.485572534063746, 33.81702746593626)\n",
      "611 (27.251207117461398, 31.170492882538603)\n",
      "612 (26.718939155793098, 30.546060844206902)\n",
      "613 (27.133815778256146, 30.944484221743853)\n",
      "614 (27.6210142719741, 31.701485728025897)\n",
      "615 (27.63605085022041, 31.62554914977959)\n",
      "616 (29.566758938683762, 33.69744106131624)\n",
      "617 (29.48251744242296, 33.968382557577044)\n",
      "618 (28.29920188811901, 32.394998111880994)\n",
      "619 (29.078575970253688, 33.176424029746315)\n",
      "620 (28.51734727760219, 32.81675272239781)\n",
      "621 (28.284450650376954, 32.359749349623044)\n",
      "622 (28.19214366718464, 32.10865633281536)\n",
      "623 (27.63030670004529, 31.654693299954708)\n",
      "624 (28.371266794868564, 32.58873320513143)\n",
      "625 (27.58735655679567, 31.46764344320433)\n",
      "626 (27.519949742067002, 31.691750257933)\n",
      "627 (28.111374455716422, 32.18362554428358)\n",
      "628 (28.55621359754281, 32.49208640245719)\n",
      "629 (28.486072976654842, 32.46482702334516)\n",
      "630 (27.170494273984836, 31.338705726015164)\n",
      "631 (28.714351896016712, 33.03484810398329)\n",
      "632 (27.09830160709015, 30.99759839290985)\n",
      "633 (28.724178740852896, 32.41752125914711)\n",
      "634 (26.76281418085642, 30.718885819143583)\n",
      "635 (28.058607838666283, 32.257292161333716)\n",
      "636 (28.395598932752765, 32.241101067247236)\n",
      "637 (26.96867034251383, 30.763829657486173)\n",
      "638 (27.18689448015092, 31.021405519849083)\n",
      "639 (29.125112107261327, 33.080687892738666)\n",
      "640 (27.599676579431694, 31.735323420568307)\n",
      "641 (26.797989890818965, 30.832010109181038)\n",
      "642 (27.404227319428603, 31.2274726805714)\n",
      "643 (26.8016766428105, 30.828323357189504)\n",
      "644 (27.966554475878134, 31.986745524121865)\n",
      "645 (27.477183790114452, 31.601116209885546)\n",
      "646 (27.710780821857362, 31.846719178142635)\n",
      "647 (27.34121484987667, 30.998785150123332)\n",
      "648 (27.021617590266725, 31.203382409733276)\n",
      "649 (28.62809603683464, 32.50780396316536)\n",
      "650 (26.789154549464286, 30.815045450535713)\n",
      "651 (27.60835072349197, 31.79834927650803)\n",
      "652 (27.797450792176694, 31.84174920782331)\n",
      "653 (28.065026273709396, 32.141673726290605)\n",
      "654 (26.99591199102662, 30.93578800897338)\n",
      "655 (28.533735939282, 32.393764060718006)\n",
      "656 (28.181078937719406, 32.528921062280595)\n",
      "657 (28.490235637693313, 32.60896436230669)\n",
      "658 (28.659190779128387, 32.76330922087161)\n",
      "659 (28.412690839212765, 32.66900916078723)\n",
      "660 (27.594317400077095, 31.428982599922904)\n",
      "661 (26.884899293099295, 30.93350070690071)\n",
      "662 (28.6716320679417, 32.7300679320583)\n",
      "663 (27.79467059542717, 31.75452940457283)\n",
      "664 (28.32010927330403, 32.35649072669597)\n",
      "665 (28.547084781334213, 32.81871521866579)\n",
      "666 (27.56232100174069, 31.614378998259316)\n",
      "667 (26.934416042485648, 30.824783957514352)\n",
      "668 (26.322578996112412, 30.344921003887585)\n",
      "669 (27.848997220225005, 31.825202779774994)\n",
      "670 (26.731417671610803, 30.747782328389196)\n",
      "671 (28.518514037195082, 32.69648596280492)\n",
      "672 (27.255906457149763, 31.13069354285024)\n",
      "673 (26.511690252989013, 30.634909747010987)\n",
      "674 (26.535151510539347, 30.756548489460652)\n",
      "675 (25.81132151435372, 29.865278485646282)\n",
      "676 (25.981582735190347, 30.02921726480965)\n",
      "677 (26.80915136870659, 30.705048631293412)\n",
      "678 (27.619184407117647, 31.505015592882355)\n",
      "679 (26.26515039869885, 30.136549601301148)\n",
      "680 (28.436893318402483, 32.567306681597515)\n",
      "681 (25.982311286752214, 30.090988713247782)\n",
      "682 (26.66869765816744, 30.938002341832565)\n",
      "683 (28.31099543969135, 32.218204560308656)\n",
      "684 (26.80725105766367, 30.86274894233633)\n",
      "685 (27.285651829211943, 31.113548170788057)\n",
      "686 (28.48006141215459, 32.47413858784541)\n",
      "687 (27.84338138128766, 31.849118618712343)\n",
      "688 (29.226708792077687, 33.301591207922314)\n",
      "689 (30.289281631933893, 34.4640183680661)\n",
      "690 (28.022351031079435, 32.02184896892057)\n",
      "691 (27.55105571305336, 31.83054428694664)\n",
      "692 (28.360044025068202, 32.45325597493179)\n",
      "693 (26.956456092830138, 31.08354390716986)\n",
      "694 (29.029586517020498, 33.0971134829795)\n",
      "695 (26.914902860602957, 30.967597139397043)\n",
      "696 (27.502883083315037, 31.900416916684964)\n",
      "697 (29.11589127213495, 33.11080872786505)\n",
      "698 (27.80492024107039, 31.55087975892961)\n",
      "699 (27.737984250665296, 32.0645157493347)\n",
      "700 (26.25707022656262, 30.08292977343738)\n",
      "701 (27.447427763001546, 31.492572236998452)\n",
      "702 (28.53241850610867, 32.855981493891335)\n",
      "703 (26.280059951708616, 30.599140048291382)\n",
      "704 (29.541578954059354, 33.41012104594065)\n",
      "705 (27.227166413588616, 31.257833586411383)\n",
      "706 (27.686573574544937, 31.897626425455066)\n",
      "707 (28.800549716321374, 33.011150283678624)\n",
      "708 (27.163265573961507, 31.53593442603849)\n",
      "709 (26.538490849329794, 30.51320915067021)\n",
      "710 (28.274168103215047, 32.050831896784956)\n",
      "711 (26.603265289867227, 30.325934710132774)\n",
      "712 (27.616393740690064, 31.741906259309935)\n",
      "713 (27.734609788271783, 31.352890211728216)\n",
      "714 (27.570983689325807, 31.77741631067419)\n",
      "715 (26.918513205728562, 30.928986794271434)\n",
      "716 (26.595218349306357, 30.644781650693645)\n",
      "717 (28.652854747329428, 32.727145252670574)\n",
      "718 (27.63351866186348, 31.503181338136518)\n",
      "719 (26.79814520474462, 30.63015479525538)\n",
      "720 (28.60191803319481, 32.8005819668052)\n",
      "721 (26.586457342771915, 30.42434265722808)\n",
      "722 (28.06172609228457, 32.213273907715426)\n",
      "723 (25.850543630679972, 29.632756369320028)\n",
      "724 (27.751412422725704, 31.806087577274294)\n",
      "725 (28.633305694357855, 32.48499430564214)\n",
      "726 (28.88813047443614, 32.95936952556386)\n",
      "727 (27.853490117127038, 31.870709882872966)\n",
      "728 (27.598871074398804, 31.470328925601198)\n",
      "729 (27.406787564778828, 31.44071243522117)\n",
      "730 (27.95271128934563, 32.02058871065437)\n",
      "731 (28.79127552585717, 32.89292447414283)\n",
      "732 (26.458560694390894, 30.285639305609106)\n",
      "733 (28.19362647048409, 32.12557352951591)\n",
      "734 (26.855802827984085, 30.848397172015915)\n",
      "735 (27.857040328889248, 31.955459671110752)\n",
      "736 (27.15154073732683, 30.72345926267317)\n",
      "737 (27.751166519312385, 31.76883348068762)\n",
      "738 (27.865120763709996, 31.923279236290007)\n",
      "739 (27.386616103267375, 31.262583896732625)\n",
      "740 (27.86487837191048, 31.812621628089524)\n",
      "741 (27.228396550475175, 31.372403449524825)\n",
      "742 (27.34166494151265, 31.28503505848735)\n",
      "743 (27.58453563811087, 31.74296436188913)\n",
      "744 (27.976904704900726, 31.780595295099275)\n",
      "745 (28.38730472562455, 32.45439527437545)\n",
      "746 (27.35046556080802, 31.01953443919198)\n",
      "747 (28.478105638270232, 32.64529436172977)\n",
      "748 (27.8332506096911, 31.6367493903089)\n",
      "749 (28.099854049641607, 32.51014595035839)\n",
      "750 (27.284872038167116, 30.976027961832884)\n",
      "751 (27.195214800201992, 31.30888519979801)\n",
      "752 (27.02767640385825, 30.874023596141747)\n",
      "753 (27.351010593722695, 31.488189406277304)\n",
      "754 (28.71871257824431, 32.810487421755695)\n",
      "755 (26.280899039667922, 30.185000960332083)\n",
      "756 (27.657319389333804, 31.484380610666197)\n",
      "757 (27.195215357454934, 31.224784642545067)\n",
      "758 (27.237471619846232, 31.35502838015377)\n",
      "759 (27.614058431490346, 31.776741568509653)\n",
      "760 (28.02069677923728, 32.19760322076272)\n",
      "761 (26.6742100629539, 31.0132899370461)\n",
      "762 (29.339675257048526, 33.106224742951476)\n",
      "763 (27.740299084684622, 31.71720091531538)\n",
      "764 (28.69833204982738, 32.30086795017262)\n",
      "765 (28.375544344992267, 32.24115565500774)\n",
      "766 (27.013912439907244, 31.137787560092754)\n",
      "767 (26.826566710147837, 31.007633289852166)\n",
      "768 (27.3806233909487, 30.904376609051297)\n",
      "769 (27.98759987158888, 31.73990012841112)\n",
      "770 (28.157854187428402, 31.884645812571595)\n",
      "771 (28.94586444873686, 32.88253555126314)\n",
      "772 (27.834999213414658, 31.95000078658534)\n",
      "773 (27.319377953895977, 31.358922046104023)\n",
      "774 (26.636936719071006, 30.330563280928995)\n",
      "775 (28.487953865540234, 32.880346134459764)\n",
      "776 (27.681548420874186, 31.654251579125813)\n",
      "777 (27.545182579319032, 31.826517420680972)\n",
      "778 (28.661995919523058, 32.79800408047694)\n",
      "779 (26.74793845391471, 30.617061546085292)\n",
      "780 (28.61538544439835, 32.41711455560165)\n",
      "781 (27.15766735026034, 30.995732649739665)\n",
      "782 (27.561371626611347, 31.451928373388654)\n",
      "783 (26.86101419470842, 31.16728580529158)\n",
      "784 (27.106765754142845, 30.984034245857156)\n",
      "785 (29.003262650528878, 33.09423734947112)\n",
      "786 (27.67152942658165, 31.457670573418348)\n",
      "787 (27.07504521045809, 31.279954789541907)\n",
      "788 (27.48452344246002, 31.061376557539983)\n",
      "789 (28.351693575429483, 32.39330642457052)\n",
      "790 (29.485925915684348, 33.34987408431565)\n",
      "791 (29.086610473987722, 32.968389526012274)\n",
      "792 (26.233197504608814, 30.325202495391185)\n",
      "793 (27.21752837354739, 31.16747162645261)\n",
      "794 (28.380411409512885, 32.49038859048712)\n",
      "795 (27.59178333203126, 31.523216667968743)\n",
      "796 (27.850305505482808, 31.912994494517193)\n",
      "797 (27.986928191533618, 32.19137180846638)\n",
      "798 (27.540898745518447, 31.669101254481554)\n",
      "799 (27.71504566770883, 31.87075433229117)\n",
      "800 (28.267224447830344, 32.21857555216965)\n",
      "801 (28.55392352345955, 32.73277647654046)\n",
      "802 (26.066537020577442, 29.740162979422557)\n",
      "803 (28.718671858216727, 32.48962814178327)\n",
      "804 (27.08969983788384, 31.10780016211616)\n",
      "805 (29.48326615475343, 33.61423384524657)\n",
      "806 (27.993335770769498, 32.011664229230504)\n",
      "807 (29.103994476036743, 33.32770552396326)\n",
      "808 (28.10362667598813, 32.12557332401187)\n",
      "809 (27.679099575194755, 31.113400424805242)\n",
      "810 (27.145255144570235, 31.244744855429765)\n",
      "811 (28.008208110090926, 32.02679188990907)\n",
      "812 (27.997682934044974, 32.09481706595503)\n",
      "813 (26.57611669553875, 30.87468330446125)\n",
      "814 (26.490158759382354, 30.838941240617643)\n",
      "815 (28.6854333001631, 32.859566699836904)\n",
      "816 (27.74837345402031, 31.46162654597969)\n",
      "817 (26.474266842282777, 30.424133157717225)\n",
      "818 (26.58728113740167, 30.236018862598325)\n",
      "819 (26.78566272641266, 30.90763727358734)\n",
      "820 (28.834814042322858, 32.574385957677144)\n",
      "821 (25.84738884714568, 29.86431115285432)\n",
      "822 (27.966337111464007, 31.91696288853599)\n",
      "823 (28.567503357222993, 32.719996642777005)\n",
      "824 (26.954783126401548, 30.848516873598452)\n",
      "825 (29.049454629494164, 33.115545370505835)\n",
      "826 (27.194578024204464, 31.225421975795538)\n",
      "827 (27.20535513884337, 31.116244861156627)\n",
      "828 (27.791583826295277, 31.793416173704724)\n",
      "829 (27.8008175630922, 31.937482436907803)\n",
      "830 (27.869290325606148, 32.10400967439386)\n",
      "831 (27.501146903392534, 31.152153096607467)\n",
      "832 (26.95528520749088, 30.90391479250912)\n",
      "833 (26.458938153026214, 30.60856184697379)\n",
      "834 (28.515728250233554, 32.270071749766444)\n",
      "835 (26.54414085424474, 30.08085914575526)\n",
      "836 (29.133088690650016, 33.24441130934998)\n",
      "837 (28.957013180644452, 32.96548681935555)\n",
      "838 (27.0110000084023, 30.831499991597703)\n",
      "839 (29.08187309765732, 32.92812690234268)\n",
      "840 (27.215526982002277, 31.181073017997722)\n",
      "841 (27.177711350175528, 31.05728864982447)\n",
      "842 (26.781355724253594, 30.648644275746406)\n",
      "843 (27.987013256906074, 32.00128674309393)\n",
      "844 (26.9060436345499, 30.953156365450102)\n",
      "845 (27.932784084727093, 32.067215915272904)\n",
      "846 (27.420467174594123, 31.40453282540588)\n",
      "847 (27.414903108368804, 31.460996891631197)\n",
      "848 (27.198825674734827, 31.01537432526517)\n",
      "849 (27.274819103390236, 31.236780896609766)\n",
      "850 (27.10732115639382, 31.05857884360618)\n",
      "851 (26.901267287492743, 30.65873271250726)\n",
      "852 (27.176649097560095, 31.373350902439903)\n",
      "853 (26.527303193170948, 30.67939680682905)\n",
      "854 (26.826296137523418, 30.716303862476583)\n",
      "855 (27.808345176285723, 31.825854823714277)\n",
      "856 (28.331018068144587, 32.697281931855414)\n",
      "857 (28.86080390861622, 32.89999609138378)\n",
      "858 (27.74385284289022, 31.93534715710978)\n",
      "859 (28.261978364077276, 32.13552163592273)\n",
      "860 (26.54497184632676, 30.482528153673243)\n",
      "861 (27.511307139359996, 31.402092860640007)\n",
      "862 (26.845793559202853, 30.880906440797148)\n",
      "863 (26.361520023663203, 30.122679976336798)\n",
      "864 (27.776478531852664, 32.04272146814734)\n",
      "865 (26.900569242317157, 31.25693075768284)\n",
      "866 (26.17245611716933, 30.023443882830673)\n",
      "867 (27.22033557376558, 31.32806442623442)\n",
      "868 (28.834425169989757, 32.83477483001025)\n",
      "869 (27.725753150080138, 31.98674684991986)\n",
      "870 (26.917608958044003, 31.022391041955995)\n",
      "871 (28.052555630767962, 31.98414436923204)\n",
      "872 (27.294847257902088, 31.225952742097913)\n",
      "873 (27.87680439300151, 31.743195606998487)\n",
      "874 (28.034821984957073, 31.75097801504293)\n",
      "875 (28.63116497063515, 32.48723502936485)\n",
      "876 (26.16810182183888, 30.08019817816112)\n",
      "877 (28.557627973862335, 32.269072026137664)\n",
      "878 (27.135045578472212, 31.26165442152779)\n",
      "879 (29.32509979053109, 33.03150020946891)\n",
      "880 (28.13181490241006, 31.78988509758994)\n",
      "881 (27.860891210609804, 31.8083087893902)\n",
      "882 (27.748591993729228, 31.74640800627077)\n",
      "883 (28.19991138525284, 32.28508861474716)\n",
      "884 (28.21823066478614, 32.24096933521386)\n",
      "885 (26.997170044638512, 31.08612995536149)\n",
      "886 (26.795457814470495, 30.7078421855295)\n",
      "887 (27.931660726793925, 31.907539273206073)\n",
      "888 (28.35180585756876, 32.780694142431244)\n",
      "889 (28.579660306787883, 32.81033969321212)\n",
      "890 (27.358471556990853, 31.51322844300915)\n",
      "891 (27.82733530309738, 31.833564696902616)\n",
      "892 (27.60958681602269, 31.817113183977312)\n",
      "893 (27.087007060769526, 31.382992939230473)\n",
      "894 (28.10208142822427, 32.137918571775735)\n",
      "895 (28.144108074123327, 32.08759192587667)\n",
      "896 (27.46768177132737, 31.491518228672632)\n",
      "897 (26.156616905671818, 30.07838309432818)\n",
      "898 (29.402199554589558, 33.45110044541044)\n",
      "899 (28.35217519256335, 32.21202480743665)\n",
      "900 (26.229491126660246, 30.124708873339753)\n",
      "901 (27.62357763942587, 31.71812236057413)\n",
      "902 (28.414109955011426, 32.49919004498857)\n",
      "903 (26.574558737299387, 30.532941262700614)\n",
      "904 (28.261108004167305, 32.5880919958327)\n",
      "905 (28.071568954230013, 31.87433104576999)\n",
      "906 (27.67580843573353, 31.77839156426647)\n",
      "907 (28.295284705788113, 32.423015294211886)\n",
      "908 (27.154197374246024, 31.226602625753976)\n",
      "909 (25.843074170666135, 29.383625829333866)\n",
      "910 (26.497931638150693, 30.79876836184931)\n",
      "911 (27.863418086279548, 31.59238191372045)\n",
      "912 (27.290063907254254, 31.39493609274575)\n",
      "913 (28.749169655939433, 33.080830344060566)\n",
      "914 (26.5053379469515, 30.5096620530485)\n",
      "915 (27.597043524151445, 31.692156475848556)\n",
      "916 (27.378766382958442, 31.299533617041558)\n",
      "917 (29.365926363814786, 33.42567363618521)\n",
      "918 (28.12894649502492, 32.422753504975084)\n",
      "919 (28.1590179640937, 32.3517820359063)\n",
      "920 (27.344968565037014, 31.39423143496299)\n",
      "921 (27.813785627188256, 31.513714372811744)\n",
      "922 (27.930317659087255, 32.12298234091274)\n",
      "923 (27.45916171680465, 31.79003828319535)\n",
      "924 (29.232086067451686, 33.13291393254832)\n",
      "925 (29.72873626049231, 33.64046373950769)\n",
      "926 (27.99571793587669, 32.07178206412331)\n",
      "927 (29.04051060886469, 32.84948939113531)\n",
      "928 (28.464474281191617, 31.979725718808385)\n",
      "929 (27.5485594595224, 31.5664405404776)\n",
      "930 (28.69316274069658, 32.71603725930342)\n",
      "931 (26.790216240793857, 30.66558375920614)\n",
      "932 (26.86176196173269, 31.017438038267308)\n",
      "933 (28.310039116314464, 32.404160883685535)\n",
      "934 (27.1518431463878, 31.007356853612198)\n",
      "935 (28.3091483813507, 32.7100516186493)\n",
      "936 (27.48881896986914, 31.65868103013086)\n",
      "937 (27.245124921374504, 31.308175078625496)\n",
      "938 (26.898824753704783, 30.88957524629522)\n",
      "939 (26.2533860307861, 30.031613969213897)\n",
      "940 (26.414259718384983, 30.401640281615016)\n",
      "941 (26.539733166460746, 30.272766833539254)\n",
      "942 (27.453900613918442, 31.437799386081558)\n",
      "943 (27.827971071664063, 31.758728928335938)\n",
      "944 (27.003257744252753, 31.131742255747245)\n",
      "945 (28.30791880301645, 32.53788119698355)\n",
      "946 (27.127418608360752, 30.84928139163925)\n",
      "947 (26.107029524557586, 30.215470475442412)\n",
      "948 (28.54668435723647, 32.77001564276353)\n",
      "949 (27.437792642415864, 31.300607357584134)\n",
      "950 (28.924268924946148, 32.939031075053855)\n",
      "951 (27.473884492593008, 31.605315507406992)\n",
      "952 (27.450288645486246, 31.64551135451375)\n",
      "953 (26.93348818384068, 31.157411816159325)\n",
      "954 (28.024787946124043, 31.88601205387596)\n",
      "955 (26.8544265482426, 30.8505734517574)\n",
      "956 (26.848147823552807, 31.13275217644719)\n",
      "957 (26.78606109616047, 30.748938903839527)\n",
      "958 (27.918889139017097, 31.829410860982904)\n",
      "959 (28.526372903904907, 32.6261270960951)\n",
      "960 (27.2155892774302, 31.2369107225698)\n",
      "961 (28.326170045522325, 32.552229954477674)\n",
      "962 (28.508464786560438, 32.64903521343956)\n",
      "963 (26.57224536292577, 30.619454637074227)\n",
      "964 (28.38127461809249, 32.16372538190751)\n",
      "965 (28.18500498152567, 32.23749501847433)\n",
      "966 (27.424626746342884, 31.72127325365712)\n",
      "967 (27.68130037462478, 31.61039962537522)\n",
      "968 (26.91484003537361, 31.16015996462639)\n",
      "969 (28.320939992486576, 32.252360007513424)\n",
      "970 (25.12508709633475, 28.97081290366525)\n",
      "971 (27.661763680431072, 32.089036319568926)\n",
      "972 (28.10168671861391, 31.890013281386093)\n",
      "973 (27.00082914339612, 31.25417085660388)\n",
      "974 (27.328768269125735, 31.403731730874267)\n",
      "975 (28.008452908749984, 31.63074709125002)\n",
      "976 (27.142913479596345, 31.087086520403652)\n",
      "977 (27.237699239011384, 31.00060076098862)\n",
      "978 (26.787565618591064, 30.86493438140894)\n",
      "979 (27.495628183367472, 31.442671816632526)\n",
      "980 (26.51495372397875, 30.387546276021254)\n",
      "981 (26.670013109321264, 30.674186890678737)\n",
      "982 (28.967033686372503, 32.870466313627496)\n",
      "983 (27.88100942041002, 31.81569057958998)\n",
      "984 (26.371730032859492, 30.66746996714051)\n",
      "985 (26.84395200557068, 30.62354799442932)\n",
      "986 (29.404329835927744, 33.51067016407225)\n",
      "987 (26.853992884740325, 30.93100711525967)\n",
      "988 (27.22452106304894, 31.228878936951062)\n",
      "989 (28.591867028011354, 32.49563297198865)\n",
      "990 (27.40980572113134, 31.250194278868655)\n",
      "991 (27.915962849545444, 31.83073715045456)\n",
      "992 (27.099068600993906, 31.060131399006092)\n",
      "993 (28.66701031844367, 32.60718968155633)\n",
      "994 (27.68697488654457, 31.69052511345543)\n",
      "995 (28.713577686189566, 32.96552231381043)\n",
      "996 (27.68531906029844, 31.69718093970156)\n",
      "997 (26.829463080556447, 30.55553691944355)\n",
      "998 (28.282021441869144, 32.16717855813085)\n",
      "999 (27.53996749901381, 31.472532500986194)\n",
      "1000 (27.315729919050263, 31.138470080949737)\n"
     ]
    }
   ],
   "source": [
    "# b. Repeat step a multiple times (e.g., 1000 times) and\n",
    "# calculate the confidence intervals each time.\n",
    "intervals = []\n",
    "sample_size = 200\n",
    "for i in range(1000):\n",
    "    sample_passanger_age = np.random.choice(df['Age'].dropna(),size=sample_size,replace = False)\n",
    "    sample_mean = np.mean(sample_passanger_age)\n",
    "\n",
    "    sample_std = np.std(sample_passanger_age,ddof=1)\n",
    "\n",
    "    z_critical = stats.norm.ppf(0.975) # 0.975 for 95% confidence level, two-tailed\n",
    "\n",
    "    standard_error = sample_std/ np.sqrt(sample_size)\n",
    "\n",
    "    confidence_interval = ((sample_mean - z_critical*standard_error),(sample_mean + z_critical*standard_error))\n",
    "    print(i+1, confidence_interval)\n",
    "    intervals.append( confidence_interval)"
   ]
  },
  {
   "cell_type": "code",
   "execution_count": 25,
   "metadata": {
    "execution": {
     "iopub.execute_input": "2024-06-19T05:22:08.886401Z",
     "iopub.status.busy": "2024-06-19T05:22:08.885992Z",
     "iopub.status.idle": "2024-06-19T05:22:08.895679Z",
     "shell.execute_reply": "2024-06-19T05:22:08.894466Z",
     "shell.execute_reply.started": "2024-06-19T05:22:08.886366Z"
    }
   },
   "outputs": [
    {
     "name": "stdout",
     "output_type": "stream",
     "text": [
      "the proportion of confidence intervals that contain the true population mean: 100.0 %\n"
     ]
    }
   ],
   "source": [
    "# c. Calculate the proportion of confidence intervals\n",
    "# that contain the true population mean.\n",
    "\n",
    "true_population_mean_age = df['Age'].mean() \n",
    "count_mean = 0\n",
    "for interval in range(len(intervals)):\n",
    "    if (true_population_mean_age >= intervals[0][0]) and (true_population_mean_age <= intervals[0][1]):\n",
    "        count_mean += 1\n",
    "print(f'the proportion of confidence intervals that contain the true population mean: {count_mean/len(intervals)*100} %')"
   ]
  },
  {
   "cell_type": "code",
   "execution_count": null,
   "metadata": {},
   "outputs": [],
   "source": []
  },
  {
   "cell_type": "markdown",
   "metadata": {
    "execution": {
     "iopub.execute_input": "2024-06-18T11:18:08.027671Z",
     "iopub.status.busy": "2024-06-18T11:18:08.027250Z",
     "iopub.status.idle": "2024-06-18T11:18:08.032533Z",
     "shell.execute_reply": "2024-06-18T11:18:08.031449Z",
     "shell.execute_reply.started": "2024-06-18T11:18:08.027639Z"
    }
   },
   "source": [
    "## Task 5"
   ]
  },
  {
   "cell_type": "code",
   "execution_count": 26,
   "metadata": {
    "execution": {
     "iopub.execute_input": "2024-06-19T05:22:08.897762Z",
     "iopub.status.busy": "2024-06-19T05:22:08.897373Z",
     "iopub.status.idle": "2024-06-19T05:22:08.908217Z",
     "shell.execute_reply": "2024-06-19T05:22:08.906917Z",
     "shell.execute_reply.started": "2024-06-19T05:22:08.897729Z"
    }
   },
   "outputs": [],
   "source": [
    "# Analyze the skewness and kurtosis of the fare\n",
    "# distribution:\n",
    "\n",
    "# Calculate the skewness and kurtosis of the fare\n",
    "# data.\n",
    "\n",
    "# Interpret the results and discuss the shape of the\n",
    "# distribution"
   ]
  },
  {
   "cell_type": "code",
   "execution_count": 32,
   "metadata": {
    "execution": {
     "iopub.execute_input": "2024-06-19T06:03:01.655961Z",
     "iopub.status.busy": "2024-06-19T06:03:01.654615Z",
     "iopub.status.idle": "2024-06-19T06:03:02.240964Z",
     "shell.execute_reply": "2024-06-19T06:03:02.239857Z",
     "shell.execute_reply.started": "2024-06-19T06:03:01.655904Z"
    }
   },
   "outputs": [
    {
     "name": "stderr",
     "output_type": "stream",
     "text": [
      "/opt/conda/lib/python3.10/site-packages/seaborn/_oldcore.py:1119: FutureWarning: use_inf_as_na option is deprecated and will be removed in a future version. Convert inf values to NaN before operating instead.\n",
      "  with pd.option_context('mode.use_inf_as_na', True):\n"
     ]
    },
    {
     "data": {
      "image/png": "[encoded data removed]",
      "text/plain": [
       "<Figure size 1200x600 with 1 Axes>"
      ]
     },
     "metadata": {},
     "output_type": "display_data"
    }
   ],
   "source": [
    "# Analyze the skewness and kurtosis of the fare\n",
    "# distribution:\n",
    "\n",
    "plt.figure(figsize=(12, 6))\n",
    "plt.hist(df['Fare'],bins=int(np.sqrt(len(df['Fare']))),histtype='bar',density=True, label='Histogram')\n",
    "sns.kdeplot(df['Fare'],bw_method='scott', label='kdeplot')\n",
    "\n",
    "plt.xlabel('Fare')\n",
    "plt.ylabel('Density')\n",
    "plt.title('Analyze the skewness and kurtosis of the fare distribution')\n",
    "plt.legend()\n",
    "\n",
    "plt.tight_layout()\n",
    "plt.show()\n",
    "\n",
    "\n",
    "# Shape of the Distribution:\n",
    "\n",
    "# The distribution is heavily skewed to the right, meaning most of the fare values are clustered at the lower end with a few extremely high values.\n",
    "# The high kurtosis indicates that the distribution has a sharp peak and heavy tails, meaning there are many outliers.\n"
   ]
  },
  {
   "cell_type": "code",
   "execution_count": 28,
   "metadata": {
    "execution": {
     "iopub.execute_input": "2024-06-19T05:22:09.394378Z",
     "iopub.status.busy": "2024-06-19T05:22:09.393933Z",
     "iopub.status.idle": "2024-06-19T05:22:09.406720Z",
     "shell.execute_reply": "2024-06-19T05:22:09.405428Z",
     "shell.execute_reply.started": "2024-06-19T05:22:09.394333Z"
    }
   },
   "outputs": [
    {
     "name": "stdout",
     "output_type": "stream",
     "text": [
      "skewness of the fare distribution: 4.7792532923723545\n",
      "kurtosis of the fare distribution: 33.20428925264474\n"
     ]
    }
   ],
   "source": [
    "# Calculate the skewness and kurtosis of the fare data.\n",
    "fare_skewness = stats.skew(df['Fare'].dropna())\n",
    "fare_kurtosis = stats.kurtosis(df['Fare'].dropna())\n",
    "\n",
    "print(f'skewness of the fare distribution: {fare_skewness}')\n",
    "print(f'kurtosis of the fare distribution: {fare_kurtosis}')"
   ]
  },
  {
   "cell_type": "code",
   "execution_count": 29,
   "metadata": {
    "execution": {
     "iopub.execute_input": "2024-06-19T05:22:09.409062Z",
     "iopub.status.busy": "2024-06-19T05:22:09.408688Z",
     "iopub.status.idle": "2024-06-19T05:22:09.419032Z",
     "shell.execute_reply": "2024-06-19T05:22:09.417844Z",
     "shell.execute_reply.started": "2024-06-19T05:22:09.409023Z"
    }
   },
   "outputs": [],
   "source": [
    "# Interpret the results and discuss the shape of the distribution\n",
    "\n",
    "# Skewness : Skewness measures the asymmetry of the distribution around the mean.\n",
    "\n",
    "# Positive Skewness: A skewness value of 4.779 indicates a highly positively skewed distribution. This means that the distribution has a long tail on the right side. The bulk of the data points are concentrated on the left side, and there are a few extreme high values pulling the tail to the right.\n",
    "# Implication: This suggests that most passengers paid relatively low fares, with a few paying significantly higher fares.\n",
    "\n",
    "# Kurtosis : Kurtosis measures the \"tailedness\" of the distribution.\n",
    "\n",
    "# High Kurtosis (Leptokurtic): A kurtosis value of 33.204 is very high, indicating that the distribution has heavy tails and a sharp peak. This means that there are more extreme outliers (both high and low) than what you would expect in a normal distribution.\n",
    "# Implication: The fare data has many extreme values, indicating a distribution that is not only skewed but also has significant outliers."
   ]
  },
  {
   "cell_type": "code",
   "execution_count": null,
   "metadata": {},
   "outputs": [],
   "source": []
  },
  {
   "cell_type": "markdown",
   "metadata": {},
   "source": [
    "## Task 6"
   ]
  },
  {
   "cell_type": "code",
   "execution_count": 33,
   "metadata": {
    "execution": {
     "iopub.execute_input": "2024-06-19T06:05:43.906606Z",
     "iopub.status.busy": "2024-06-19T06:05:43.906122Z",
     "iopub.status.idle": "2024-06-19T06:05:43.911857Z",
     "shell.execute_reply": "2024-06-19T06:05:43.910594Z",
     "shell.execute_reply.started": "2024-06-19T06:05:43.906552Z"
    }
   },
   "outputs": [],
   "source": [
    "# Calculate confidence intervals for population parameters:\n",
    "\n",
    "# Calculate a 95% confidence interval for the population mean fare.\n",
    "\n",
    "# Calculate a 95% confidence interval for the population proportion of survivors (Survived column)."
   ]
  },
  {
   "cell_type": "code",
   "execution_count": 50,
   "metadata": {
    "execution": {
     "iopub.execute_input": "2024-06-19T07:09:07.805580Z",
     "iopub.status.busy": "2024-06-19T07:09:07.805044Z",
     "iopub.status.idle": "2024-06-19T07:09:07.817525Z",
     "shell.execute_reply": "2024-06-19T07:09:07.816165Z",
     "shell.execute_reply.started": "2024-06-19T07:09:07.805537Z"
    }
   },
   "outputs": [
    {
     "name": "stdout",
     "output_type": "stream",
     "text": [
      "95% confidence interval for the population mean fare:  (28.94127463271884, 35.46714130443043)\n",
      "Proportion of fares lie in the above mentioned confidence interval:  0.06\n"
     ]
    }
   ],
   "source": [
    "# Calculate a 95% confidence interval for the population mean fare.\n",
    "\n",
    "population_mean = df['Fare'].mean() #population mean\n",
    "population_std = df['Fare'].std() #population std\n",
    "\n",
    "z_score = stats.norm.ppf(0.975) #for 95% confidence interval\n",
    "\n",
    "standard_error = population_std/np.sqrt(len(df['Fare']))\n",
    "\n",
    "confidence_interval = (population_mean - z_score*standard_error,population_mean + z_score*standard_error)\n",
    "print(\"95% confidence interval for the population mean fare: \",confidence_interval) \n",
    "\n",
    "count_fare=0\n",
    "for fare in df['Fare']:\n",
    "    if (fare >= confidence_interval[0]) and (fare <= confidence_interval[1]):\n",
    "        count_fare+=1\n",
    "\n",
    "print(\"Proportion of fares lie in the above mentioned confidence interval: \",round(count_fare/len(df['Fare']),2))\n",
    "        "
   ]
  },
  {
   "cell_type": "code",
   "execution_count": 56,
   "metadata": {
    "execution": {
     "iopub.execute_input": "2024-06-19T07:30:26.146274Z",
     "iopub.status.busy": "2024-06-19T07:30:26.145826Z",
     "iopub.status.idle": "2024-06-19T07:30:26.155675Z",
     "shell.execute_reply": "2024-06-19T07:30:26.154192Z",
     "shell.execute_reply.started": "2024-06-19T07:30:26.146217Z"
    }
   },
   "outputs": [
    {
     "name": "stdout",
     "output_type": "stream",
     "text": [
      "95% confidence interval for the population proportion of survivors (Survived column):  (0.3519060427032577, 0.4157707249735099)\n"
     ]
    }
   ],
   "source": [
    "# Calculate a 95% confidence interval for the population proportion of survivors (Survived column).\n",
    "\n",
    "sample_proportion = df['Survived'].mean()\n",
    "\n",
    "z_score = stats.norm.ppf(0.975) #for 95% confidence interval\n",
    "\n",
    "standard_error = np.sqrt((sample_proportion * (1-sample_proportion))/len(df['Survived']))\n",
    "\n",
    "margin_of_error = z_score * standard_error\n",
    "\n",
    "confidence_interval = (sample_proportion - margin_of_error,sample_proportion + margin_of_error)\n",
    "\n",
    "sample_proportion\n",
    "\n",
    "print('95% confidence interval for the population proportion of survivors (Survived column): ',confidence_interval)"
   ]
  }
 ],
 "metadata": {
  "kaggle": {
   "accelerator": "none",
   "dataSources": [
    {
     "datasetId": 5209057,
     "sourceId": 8687892,
     "sourceType": "datasetVersion"
    },
    {
     "datasetId": 5209067,
     "sourceId": 8687902,
     "sourceType": "datasetVersion"
    }
   ],
   "dockerImageVersionId": 30732,
   "isGpuEnabled": false,
   "isInternetEnabled": true,
   "language": "python",
   "sourceType": "notebook"
  },
  "kernelspec": {
   "display_name": "Python 3 (ipykernel)",
   "language": "python",
   "name": "python3"
  },
  "language_info": {
   "codemirror_mode": {
    "name": "ipython",
    "version": 3
   },
   "file_extension": ".py",
   "mimetype": "text/x-python",
   "name": "python",
   "nbconvert_exporter": "python",
   "pygments_lexer": "ipython3",
   "version": "3.10.5"
  }
 },
 "nbformat": 4,
 "nbformat_minor": 4
}
